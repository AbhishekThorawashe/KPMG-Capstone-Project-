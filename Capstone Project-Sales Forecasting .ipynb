{
 "cells": [
  {
   "cell_type": "code",
   "execution_count": 1,
   "metadata": {},
   "outputs": [
    {
     "name": "stderr",
     "output_type": "stream",
     "text": [
      "In C:\\Users\\Abhishek\\anaconda3\\lib\\site-packages\\matplotlib\\mpl-data\\stylelib\\_classic_test.mplstyle: \n",
      "The text.latex.preview rcparam was deprecated in Matplotlib 3.3 and will be removed two minor releases later.\n",
      "In C:\\Users\\Abhishek\\anaconda3\\lib\\site-packages\\matplotlib\\mpl-data\\stylelib\\_classic_test.mplstyle: \n",
      "The mathtext.fallback_to_cm rcparam was deprecated in Matplotlib 3.3 and will be removed two minor releases later.\n",
      "In C:\\Users\\Abhishek\\anaconda3\\lib\\site-packages\\matplotlib\\mpl-data\\stylelib\\_classic_test.mplstyle: Support for setting the 'mathtext.fallback_to_cm' rcParam is deprecated since 3.3 and will be removed two minor releases later; use 'mathtext.fallback : 'cm' instead.\n",
      "In C:\\Users\\Abhishek\\anaconda3\\lib\\site-packages\\matplotlib\\mpl-data\\stylelib\\_classic_test.mplstyle: \n",
      "The validate_bool_maybe_none function was deprecated in Matplotlib 3.3 and will be removed two minor releases later.\n",
      "In C:\\Users\\Abhishek\\anaconda3\\lib\\site-packages\\matplotlib\\mpl-data\\stylelib\\_classic_test.mplstyle: \n",
      "The savefig.jpeg_quality rcparam was deprecated in Matplotlib 3.3 and will be removed two minor releases later.\n",
      "In C:\\Users\\Abhishek\\anaconda3\\lib\\site-packages\\matplotlib\\mpl-data\\stylelib\\_classic_test.mplstyle: \n",
      "The keymap.all_axes rcparam was deprecated in Matplotlib 3.3 and will be removed two minor releases later.\n",
      "In C:\\Users\\Abhishek\\anaconda3\\lib\\site-packages\\matplotlib\\mpl-data\\stylelib\\_classic_test.mplstyle: \n",
      "The animation.avconv_path rcparam was deprecated in Matplotlib 3.3 and will be removed two minor releases later.\n",
      "In C:\\Users\\Abhishek\\anaconda3\\lib\\site-packages\\matplotlib\\mpl-data\\stylelib\\_classic_test.mplstyle: \n",
      "The animation.avconv_args rcparam was deprecated in Matplotlib 3.3 and will be removed two minor releases later.\n"
     ]
    }
   ],
   "source": [
    "#import packages\n",
    "import pandas as pd \n",
    "import numpy as np\n",
    "import matplotlib.pyplot as plt\n",
    "from pandas import read_csv\n",
    "from statsmodels.tsa.arima_model import ARIMA\n",
    "from statsmodels.tsa.arima_model import ARIMAResults\n",
    "pd.set_option('display.max_columns',None)"
   ]
  },
  {
   "cell_type": "code",
   "execution_count": 2,
   "metadata": {},
   "outputs": [
    {
     "data": {
      "text/html": [
       "<div>\n",
       "<style scoped>\n",
       "    .dataframe tbody tr th:only-of-type {\n",
       "        vertical-align: middle;\n",
       "    }\n",
       "\n",
       "    .dataframe tbody tr th {\n",
       "        vertical-align: top;\n",
       "    }\n",
       "\n",
       "    .dataframe thead th {\n",
       "        text-align: right;\n",
       "    }\n",
       "</style>\n",
       "<table border=\"1\" class=\"dataframe\">\n",
       "  <thead>\n",
       "    <tr style=\"text-align: right;\">\n",
       "      <th></th>\n",
       "      <th>FIN_YEAR</th>\n",
       "      <th>MONTH</th>\n",
       "      <th>STATE</th>\n",
       "      <th>FG</th>\n",
       "      <th>DISTRICT</th>\n",
       "      <th>COMPANY</th>\n",
       "      <th>VALUE</th>\n",
       "    </tr>\n",
       "  </thead>\n",
       "  <tbody>\n",
       "    <tr>\n",
       "      <th>0</th>\n",
       "      <td>2014-2015</td>\n",
       "      <td>Nov</td>\n",
       "      <td>Haryana</td>\n",
       "      <td>Insecticides</td>\n",
       "      <td>Rohtak</td>\n",
       "      <td>monous</td>\n",
       "      <td>675.00</td>\n",
       "    </tr>\n",
       "    <tr>\n",
       "      <th>1</th>\n",
       "      <td>2014-2015</td>\n",
       "      <td>Nov</td>\n",
       "      <td>Haryana</td>\n",
       "      <td>Insecticides</td>\n",
       "      <td>Rewari</td>\n",
       "      <td>monous</td>\n",
       "      <td>73.71</td>\n",
       "    </tr>\n",
       "    <tr>\n",
       "      <th>2</th>\n",
       "      <td>2014-2015</td>\n",
       "      <td>Nov</td>\n",
       "      <td>Haryana</td>\n",
       "      <td>Insecticides</td>\n",
       "      <td>Gurgaon</td>\n",
       "      <td>monous</td>\n",
       "      <td>405.00</td>\n",
       "    </tr>\n",
       "    <tr>\n",
       "      <th>3</th>\n",
       "      <td>2014-2015</td>\n",
       "      <td>Nov</td>\n",
       "      <td>Haryana</td>\n",
       "      <td>Insecticides</td>\n",
       "      <td>Mewat</td>\n",
       "      <td>monous</td>\n",
       "      <td>1188.00</td>\n",
       "    </tr>\n",
       "    <tr>\n",
       "      <th>4</th>\n",
       "      <td>2014-2015</td>\n",
       "      <td>Nov</td>\n",
       "      <td>Haryana</td>\n",
       "      <td>Insecticides</td>\n",
       "      <td>Palwal</td>\n",
       "      <td>monous</td>\n",
       "      <td>5188.59</td>\n",
       "    </tr>\n",
       "  </tbody>\n",
       "</table>\n",
       "</div>"
      ],
      "text/plain": [
       "    FIN_YEAR MONTH    STATE            FG DISTRICT  COMPANY    VALUE\n",
       "0  2014-2015   Nov  Haryana  Insecticides   Rohtak  monous    675.00\n",
       "1  2014-2015   Nov  Haryana  Insecticides   Rewari  monous     73.71\n",
       "2  2014-2015   Nov  Haryana  Insecticides  Gurgaon  monous    405.00\n",
       "3  2014-2015   Nov  Haryana  Insecticides    Mewat  monous   1188.00\n",
       "4  2014-2015   Nov  Haryana  Insecticides   Palwal  monous   5188.59"
      ]
     },
     "execution_count": 2,
     "metadata": {},
     "output_type": "execute_result"
    }
   ],
   "source": [
    "#import data\n",
    "data=pd.read_excel('Sales_Forecast_Data.xlsx',header=0)\n",
    "data.head()"
   ]
  },
  {
   "cell_type": "code",
   "execution_count": 3,
   "metadata": {},
   "outputs": [
    {
     "data": {
      "text/html": [
       "<div>\n",
       "<style scoped>\n",
       "    .dataframe tbody tr th:only-of-type {\n",
       "        vertical-align: middle;\n",
       "    }\n",
       "\n",
       "    .dataframe tbody tr th {\n",
       "        vertical-align: top;\n",
       "    }\n",
       "\n",
       "    .dataframe thead th {\n",
       "        text-align: right;\n",
       "    }\n",
       "</style>\n",
       "<table border=\"1\" class=\"dataframe\">\n",
       "  <thead>\n",
       "    <tr style=\"text-align: right;\">\n",
       "      <th></th>\n",
       "      <th>FIN_YEAR</th>\n",
       "      <th>MONTH</th>\n",
       "      <th>STATE</th>\n",
       "      <th>FG</th>\n",
       "      <th>DISTRICT</th>\n",
       "      <th>COMPANY</th>\n",
       "      <th>VALUE</th>\n",
       "    </tr>\n",
       "  </thead>\n",
       "  <tbody>\n",
       "    <tr>\n",
       "      <th>count</th>\n",
       "      <td>230152</td>\n",
       "      <td>230152</td>\n",
       "      <td>230152</td>\n",
       "      <td>230152</td>\n",
       "      <td>230152</td>\n",
       "      <td>230152</td>\n",
       "      <td>230152.000000</td>\n",
       "    </tr>\n",
       "    <tr>\n",
       "      <th>unique</th>\n",
       "      <td>4</td>\n",
       "      <td>12</td>\n",
       "      <td>5</td>\n",
       "      <td>4</td>\n",
       "      <td>142</td>\n",
       "      <td>47</td>\n",
       "      <td>NaN</td>\n",
       "    </tr>\n",
       "    <tr>\n",
       "      <th>top</th>\n",
       "      <td>2016-2017</td>\n",
       "      <td>Nov</td>\n",
       "      <td>Uttar Pradesh</td>\n",
       "      <td>Insecticides</td>\n",
       "      <td>Karnal</td>\n",
       "      <td>ABC Manufacturing</td>\n",
       "      <td>NaN</td>\n",
       "    </tr>\n",
       "    <tr>\n",
       "      <th>freq</th>\n",
       "      <td>76280</td>\n",
       "      <td>23864</td>\n",
       "      <td>122644</td>\n",
       "      <td>57538</td>\n",
       "      <td>4308</td>\n",
       "      <td>28640</td>\n",
       "      <td>NaN</td>\n",
       "    </tr>\n",
       "    <tr>\n",
       "      <th>mean</th>\n",
       "      <td>NaN</td>\n",
       "      <td>NaN</td>\n",
       "      <td>NaN</td>\n",
       "      <td>NaN</td>\n",
       "      <td>NaN</td>\n",
       "      <td>NaN</td>\n",
       "      <td>704.973592</td>\n",
       "    </tr>\n",
       "    <tr>\n",
       "      <th>std</th>\n",
       "      <td>NaN</td>\n",
       "      <td>NaN</td>\n",
       "      <td>NaN</td>\n",
       "      <td>NaN</td>\n",
       "      <td>NaN</td>\n",
       "      <td>NaN</td>\n",
       "      <td>2261.623760</td>\n",
       "    </tr>\n",
       "    <tr>\n",
       "      <th>min</th>\n",
       "      <td>NaN</td>\n",
       "      <td>NaN</td>\n",
       "      <td>NaN</td>\n",
       "      <td>NaN</td>\n",
       "      <td>NaN</td>\n",
       "      <td>NaN</td>\n",
       "      <td>0.000000</td>\n",
       "    </tr>\n",
       "    <tr>\n",
       "      <th>25%</th>\n",
       "      <td>NaN</td>\n",
       "      <td>NaN</td>\n",
       "      <td>NaN</td>\n",
       "      <td>NaN</td>\n",
       "      <td>NaN</td>\n",
       "      <td>NaN</td>\n",
       "      <td>0.000000</td>\n",
       "    </tr>\n",
       "    <tr>\n",
       "      <th>50%</th>\n",
       "      <td>NaN</td>\n",
       "      <td>NaN</td>\n",
       "      <td>NaN</td>\n",
       "      <td>NaN</td>\n",
       "      <td>NaN</td>\n",
       "      <td>NaN</td>\n",
       "      <td>0.000000</td>\n",
       "    </tr>\n",
       "    <tr>\n",
       "      <th>75%</th>\n",
       "      <td>NaN</td>\n",
       "      <td>NaN</td>\n",
       "      <td>NaN</td>\n",
       "      <td>NaN</td>\n",
       "      <td>NaN</td>\n",
       "      <td>NaN</td>\n",
       "      <td>269.865000</td>\n",
       "    </tr>\n",
       "    <tr>\n",
       "      <th>max</th>\n",
       "      <td>NaN</td>\n",
       "      <td>NaN</td>\n",
       "      <td>NaN</td>\n",
       "      <td>NaN</td>\n",
       "      <td>NaN</td>\n",
       "      <td>NaN</td>\n",
       "      <td>69828.750000</td>\n",
       "    </tr>\n",
       "  </tbody>\n",
       "</table>\n",
       "</div>"
      ],
      "text/plain": [
       "         FIN_YEAR   MONTH          STATE            FG DISTRICT  \\\n",
       "count      230152  230152         230152        230152   230152   \n",
       "unique          4      12              5             4      142   \n",
       "top     2016-2017     Nov  Uttar Pradesh  Insecticides   Karnal   \n",
       "freq        76280   23864         122644         57538     4308   \n",
       "mean          NaN     NaN            NaN           NaN      NaN   \n",
       "std           NaN     NaN            NaN           NaN      NaN   \n",
       "min           NaN     NaN            NaN           NaN      NaN   \n",
       "25%           NaN     NaN            NaN           NaN      NaN   \n",
       "50%           NaN     NaN            NaN           NaN      NaN   \n",
       "75%           NaN     NaN            NaN           NaN      NaN   \n",
       "max           NaN     NaN            NaN           NaN      NaN   \n",
       "\n",
       "                  COMPANY          VALUE  \n",
       "count              230152  230152.000000  \n",
       "unique                 47            NaN  \n",
       "top     ABC Manufacturing            NaN  \n",
       "freq                28640            NaN  \n",
       "mean                  NaN     704.973592  \n",
       "std                   NaN    2261.623760  \n",
       "min                   NaN       0.000000  \n",
       "25%                   NaN       0.000000  \n",
       "50%                   NaN       0.000000  \n",
       "75%                   NaN     269.865000  \n",
       "max                   NaN   69828.750000  "
      ]
     },
     "execution_count": 3,
     "metadata": {},
     "output_type": "execute_result"
    }
   ],
   "source": [
    "data.describe(include='all')"
   ]
  },
  {
   "cell_type": "code",
   "execution_count": 4,
   "metadata": {},
   "outputs": [],
   "source": [
    "# create copy of the dataframe\n",
    "df=pd.DataFrame.copy(data)"
   ]
  },
  {
   "cell_type": "code",
   "execution_count": 5,
   "metadata": {},
   "outputs": [
    {
     "data": {
      "text/plain": [
       "(230152, 7)"
      ]
     },
     "execution_count": 5,
     "metadata": {},
     "output_type": "execute_result"
    }
   ],
   "source": [
    "#check shape of the dataset \n",
    "df.shape"
   ]
  },
  {
   "cell_type": "code",
   "execution_count": 6,
   "metadata": {},
   "outputs": [
    {
     "data": {
      "text/plain": [
       "FIN_YEAR    0\n",
       "MONTH       0\n",
       "STATE       0\n",
       "FG          0\n",
       "DISTRICT    0\n",
       "COMPANY     0\n",
       "VALUE       0\n",
       "dtype: int64"
      ]
     },
     "execution_count": 6,
     "metadata": {},
     "output_type": "execute_result"
    }
   ],
   "source": [
    "# finding missing value in datasets\n",
    "df.isnull().sum()"
   ]
  },
  {
   "cell_type": "markdown",
   "metadata": {},
   "source": [
    "Their is no missing value in dataset "
   ]
  },
  {
   "cell_type": "code",
   "execution_count": 7,
   "metadata": {},
   "outputs": [
    {
     "name": "stdout",
     "output_type": "stream",
     "text": [
      "['2014-2015' '2015-2016' '2016-2017' '2017-2018']\n",
      "['Haryana' 'Himachal Pradesh' 'Punjab' 'Uttar Pradesh' 'Uttarakhand']\n",
      "['Rohtak' 'Rewari' 'Gurgaon' 'Mewat' 'Palwal' 'Jind' 'Sirsa' 'Hisar'\n",
      " 'Bhiwani' 'Jhajjar' 'Mahendragarh' 'Panchkula' 'Ambala' 'Yamunanagar'\n",
      " 'Kurukshetra' 'Kaithal' 'Karnal' 'Sonipat' 'Fatehabad' 'Panipat'\n",
      " 'Faridabad' 'Sirmaur' 'Shimla' 'Kinnaur' 'Kangra' 'Kullu' 'Mandi'\n",
      " 'Hamirpur' 'Bilaspur' 'Solan' 'Chamba' 'Lahul And Spiti' 'Una' 'Muktsar'\n",
      " 'Bathinda' 'Mansa' 'Patiala' 'Amritsar' 'Tarn Taran' 'Sangrur'\n",
      " 'Gurdaspur' 'Kapurthala' 'Jalandhar' 'Hoshiarpur' 'Nawanshahr'\n",
      " 'Fatehgarh Sahib' 'Ludhiana' 'Moga' 'Faridkot' 'Rupnagar' 'Barnala'\n",
      " 'Firozepur' 'S.A.S Nagar' 'Meerut' 'Baghpat' 'Ghaziabad' 'Maharajganj'\n",
      " 'Gorakhpur' 'Fatehpur' 'Kaushambi' 'Barabanki' 'Bahraich'\n",
      " 'Siddharth Nagar' 'Kushi Nagar' 'Deoria' 'Azamgarh' 'Ghazipur' 'Varanasi'\n",
      " 'Mirzapur' 'Sonbhadra' 'Kanshiram Nagar' 'Saharanpur' 'Muzaffarnagar'\n",
      " 'Bijnor' 'Moradabad' 'Rampur' 'Jyotiba Phule Nagar' 'Gautam Buddha Nagar'\n",
      " 'Bulandshahr' 'Aligarh' 'Mahamaya Nagar' 'Mathura' 'Agra' 'Mainpuri'\n",
      " 'Budaun' 'Bareilly' 'Pilibhit' 'Shahjahanpur' 'Kheri' 'Sitapur' 'Hardoi'\n",
      " 'Unnao' 'Rae Bareli' 'Farrukhabad' 'Kannauj' 'Etawah' 'Auraiya'\n",
      " 'Kanpur Dehat' 'Kanpur Nagar' 'Allahabad' 'Ambedkar Nagar' 'Gonda'\n",
      " 'Firozabad' 'Jalaun' 'Shravasti' 'Basti' 'Mau' 'Ballia' 'Jaunpur'\n",
      " 'Chandauli' 'Lalitpur' 'Pratapgarh' 'Faizabad' 'Sultanpur' 'Balrampur'\n",
      " 'Sant Kabeer Nagar' 'Etah' 'Amethi' 'Jhansi' 'Lucknow' 'Chitrakoot'\n",
      " 'Sant Ravidas Nagar' 'Banda' 'Mahoba' 'Udam Singh Nagar' 'Pauri Garhwal'\n",
      " 'Nainital' 'Haridwar' 'Dehradun' 'Pithoragarh' 'Rudra Prayag' 'Champawat'\n",
      " 'Chamoli' 'Tehri Garhwal' 'Bageshwar' 'Almora' 'Uttar Kashi' 'Hapur'\n",
      " 'Sambhal' 'Shamli' 'Fazilka' 'Pathankot']\n",
      "['Insecticides' 'Herbicides' 'Rodenticides' 'Bactericides']\n",
      "['monous ' 'kadoo ' 'cynoid ' 'exicious ' 'venible ' 'intravu '\n",
      " 'ABC Manufacturing' 'disescent ' 'janu ' 'idiombee ' 'scire ' 'trita '\n",
      " 'zooloo ' 'unimm ' 'archile ' 'interosis ' 'flimbo ' 'agizu ' 'oyofix '\n",
      " 'socimbee ' 'unent ' 'hemify ' 'avape ' 'domise ' 'centicee ' 'biore '\n",
      " 'munder ' 'insulescent ' 'transescent ' 'yore ' 'hypomba ' 'ament '\n",
      " 'suroid ' 'alboid ' 'canill ' 'esose ' 'inent ' 'falcize ' 'verous '\n",
      " 'comible ' 'polyic ' 'luper ' 'electrotude ' 'calcise ' 'subism '\n",
      " 'maler ' 'dominive ']\n"
     ]
    }
   ],
   "source": [
    "#Check all unique value in dataset  \n",
    "columns=df[['FIN_YEAR','STATE','DISTRICT','FG','COMPANY']]\n",
    "for i in columns:\n",
    "    print(columns[i].unique())\n",
    "   "
   ]
  },
  {
   "cell_type": "code",
   "execution_count": 8,
   "metadata": {},
   "outputs": [
    {
     "name": "stdout",
     "output_type": "stream",
     "text": [
      "4\n",
      "5\n",
      "142\n",
      "4\n",
      "47\n"
     ]
    }
   ],
   "source": [
    "#Check all unique value in dataset  \n",
    "columns=df[['FIN_YEAR','STATE','DISTRICT','FG','COMPANY']]\n",
    "for i in columns:\n",
    "    print(columns[i].nunique())"
   ]
  },
  {
   "cell_type": "code",
   "execution_count": 9,
   "metadata": {},
   "outputs": [
    {
     "data": {
      "text/plain": [
       "Uttar Pradesh       122644\n",
       "Haryana              53568\n",
       "Punjab               41316\n",
       "Himachal Pradesh      8092\n",
       "Uttarakhand           4532\n",
       "Name: STATE, dtype: int64"
      ]
     },
     "execution_count": 9,
     "metadata": {},
     "output_type": "execute_result"
    }
   ],
   "source": [
    "#check unique value and count for state\n",
    "df['STATE'].value_counts()"
   ]
  },
  {
   "cell_type": "code",
   "execution_count": 10,
   "metadata": {},
   "outputs": [
    {
     "name": "stdout",
     "output_type": "stream",
     "text": [
      "2016-2017    76280\n",
      "2015-2016    53564\n",
      "2014-2015    52248\n",
      "2017-2018    48060\n",
      "Name: FIN_YEAR, dtype: int64\n",
      "Nov    23864\n",
      "Dec    22904\n",
      "Oct    21840\n",
      "Jan    21148\n",
      "Sep    20936\n",
      "Aug    20120\n",
      "Jun    20088\n",
      "Jul    19352\n",
      "May    17716\n",
      "Mar    14676\n",
      "Feb    14424\n",
      "Apr    13084\n",
      "Name: MONTH, dtype: int64\n",
      "Uttar Pradesh       122644\n",
      "Haryana              53568\n",
      "Punjab               41316\n",
      "Himachal Pradesh      8092\n",
      "Uttarakhand           4532\n",
      "Name: STATE, dtype: int64\n",
      "Karnal             4308\n",
      "Sirsa              3656\n",
      "Hisar              3604\n",
      "Jind               3564\n",
      "Kurukshetra        3452\n",
      "                   ... \n",
      "Chamoli             152\n",
      "Lahul And Spiti     144\n",
      "Tehri Garhwal       132\n",
      "Pathankot            44\n",
      "Rudra Prayag         32\n",
      "Name: DISTRICT, Length: 142, dtype: int64\n",
      "Insecticides    57538\n",
      "Herbicides      57538\n",
      "Rodenticides    57538\n",
      "Bactericides    57538\n",
      "Name: FG, dtype: int64\n",
      "ABC Manufacturing    28640\n",
      "trita                22744\n",
      "cynoid               20800\n",
      "disescent            17012\n",
      "interosis            14288\n",
      "idiombee             13904\n",
      "exicious             12992\n",
      "unimm                10184\n",
      "scire                10152\n",
      "zooloo               10032\n",
      "unent                 9760\n",
      "janu                  9432\n",
      "hemify                7924\n",
      "venible               7844\n",
      "socimbee              6812\n",
      "monous                4888\n",
      "kadoo                 4272\n",
      "flimbo                3476\n",
      "intravu               3460\n",
      "agizu                 2700\n",
      "archile               1428\n",
      "esose                 1056\n",
      "munder                 820\n",
      "dominive               580\n",
      "suroid                 544\n",
      "inent                  536\n",
      "alboid                 512\n",
      "yore                   468\n",
      "biore                  464\n",
      "hypomba                380\n",
      "insulescent            328\n",
      "falcize                240\n",
      "centicee               240\n",
      "oyofix                 220\n",
      "ament                  212\n",
      "canill                 200\n",
      "transescent            116\n",
      "luper                  116\n",
      "maler                   92\n",
      "domise                  60\n",
      "subism                  60\n",
      "avape                   52\n",
      "polyic                  32\n",
      "verous                  28\n",
      "calcise                 28\n",
      "comible                 16\n",
      "electrotude              8\n",
      "Name: COMPANY, dtype: int64\n"
     ]
    }
   ],
   "source": [
    "#Check all unique value count in dataset  \n",
    "columns=df[['FIN_YEAR','MONTH','STATE','DISTRICT','FG','COMPANY']]\n",
    "for i in columns:\n",
    "    print(columns[i].value_counts())"
   ]
  },
  {
   "cell_type": "code",
   "execution_count": 11,
   "metadata": {},
   "outputs": [
    {
     "data": {
      "text/plain": [
       "(MONTH             Apr\n",
       " FIN_YEAR    2014-2015\n",
       " dtype: object,\n",
       " MONTH             Sep\n",
       " FIN_YEAR    2017-2018\n",
       " dtype: object)"
      ]
     },
     "execution_count": 11,
     "metadata": {},
     "output_type": "execute_result"
    }
   ],
   "source": [
    "# Checking starting month and year as well as end of the data\n",
    "df[['MONTH','FIN_YEAR']].min(),df[['MONTH','FIN_YEAR']].max() "
   ]
  },
  {
   "cell_type": "code",
   "execution_count": 12,
   "metadata": {},
   "outputs": [
    {
     "data": {
      "text/html": [
       "<div>\n",
       "<style scoped>\n",
       "    .dataframe tbody tr th:only-of-type {\n",
       "        vertical-align: middle;\n",
       "    }\n",
       "\n",
       "    .dataframe tbody tr th {\n",
       "        vertical-align: top;\n",
       "    }\n",
       "\n",
       "    .dataframe thead th {\n",
       "        text-align: right;\n",
       "    }\n",
       "</style>\n",
       "<table border=\"1\" class=\"dataframe\">\n",
       "  <thead>\n",
       "    <tr style=\"text-align: right;\">\n",
       "      <th></th>\n",
       "      <th>FIN_YEAR</th>\n",
       "      <th>MONTH</th>\n",
       "      <th>STATE</th>\n",
       "      <th>FG</th>\n",
       "      <th>DISTRICT</th>\n",
       "      <th>COMPANY</th>\n",
       "      <th>VALUE</th>\n",
       "    </tr>\n",
       "  </thead>\n",
       "  <tbody>\n",
       "    <tr>\n",
       "      <th>348</th>\n",
       "      <td>2014-2015</td>\n",
       "      <td>Apr</td>\n",
       "      <td>Haryana</td>\n",
       "      <td>Insecticides</td>\n",
       "      <td>Panchkula</td>\n",
       "      <td>cynoid</td>\n",
       "      <td>564.300</td>\n",
       "    </tr>\n",
       "    <tr>\n",
       "      <th>349</th>\n",
       "      <td>2014-2015</td>\n",
       "      <td>Apr</td>\n",
       "      <td>Haryana</td>\n",
       "      <td>Insecticides</td>\n",
       "      <td>Ambala</td>\n",
       "      <td>cynoid</td>\n",
       "      <td>7039.305</td>\n",
       "    </tr>\n",
       "    <tr>\n",
       "      <th>350</th>\n",
       "      <td>2014-2015</td>\n",
       "      <td>Apr</td>\n",
       "      <td>Haryana</td>\n",
       "      <td>Insecticides</td>\n",
       "      <td>Yamunanagar</td>\n",
       "      <td>cynoid</td>\n",
       "      <td>7385.040</td>\n",
       "    </tr>\n",
       "    <tr>\n",
       "      <th>351</th>\n",
       "      <td>2014-2015</td>\n",
       "      <td>Apr</td>\n",
       "      <td>Haryana</td>\n",
       "      <td>Insecticides</td>\n",
       "      <td>Kurukshetra</td>\n",
       "      <td>cynoid</td>\n",
       "      <td>0.000</td>\n",
       "    </tr>\n",
       "    <tr>\n",
       "      <th>352</th>\n",
       "      <td>2014-2015</td>\n",
       "      <td>Apr</td>\n",
       "      <td>Haryana</td>\n",
       "      <td>Insecticides</td>\n",
       "      <td>Kaithal</td>\n",
       "      <td>cynoid</td>\n",
       "      <td>6669.540</td>\n",
       "    </tr>\n",
       "    <tr>\n",
       "      <th>353</th>\n",
       "      <td>2014-2015</td>\n",
       "      <td>Apr</td>\n",
       "      <td>Haryana</td>\n",
       "      <td>Insecticides</td>\n",
       "      <td>Panipat</td>\n",
       "      <td>cynoid</td>\n",
       "      <td>5635.980</td>\n",
       "    </tr>\n",
       "    <tr>\n",
       "      <th>354</th>\n",
       "      <td>2014-2015</td>\n",
       "      <td>Apr</td>\n",
       "      <td>Haryana</td>\n",
       "      <td>Insecticides</td>\n",
       "      <td>Sonipat</td>\n",
       "      <td>cynoid</td>\n",
       "      <td>8605.710</td>\n",
       "    </tr>\n",
       "    <tr>\n",
       "      <th>355</th>\n",
       "      <td>2014-2015</td>\n",
       "      <td>Apr</td>\n",
       "      <td>Haryana</td>\n",
       "      <td>Insecticides</td>\n",
       "      <td>Jind</td>\n",
       "      <td>cynoid</td>\n",
       "      <td>6534.000</td>\n",
       "    </tr>\n",
       "    <tr>\n",
       "      <th>356</th>\n",
       "      <td>2014-2015</td>\n",
       "      <td>Apr</td>\n",
       "      <td>Haryana</td>\n",
       "      <td>Insecticides</td>\n",
       "      <td>Fatehabad</td>\n",
       "      <td>cynoid</td>\n",
       "      <td>13424.130</td>\n",
       "    </tr>\n",
       "    <tr>\n",
       "      <th>357</th>\n",
       "      <td>2014-2015</td>\n",
       "      <td>Apr</td>\n",
       "      <td>Haryana</td>\n",
       "      <td>Insecticides</td>\n",
       "      <td>Sirsa</td>\n",
       "      <td>cynoid</td>\n",
       "      <td>364.500</td>\n",
       "    </tr>\n",
       "  </tbody>\n",
       "</table>\n",
       "</div>"
      ],
      "text/plain": [
       "      FIN_YEAR MONTH    STATE            FG     DISTRICT  COMPANY      VALUE\n",
       "348  2014-2015   Apr  Haryana  Insecticides    Panchkula  cynoid     564.300\n",
       "349  2014-2015   Apr  Haryana  Insecticides       Ambala  cynoid    7039.305\n",
       "350  2014-2015   Apr  Haryana  Insecticides  Yamunanagar  cynoid    7385.040\n",
       "351  2014-2015   Apr  Haryana  Insecticides  Kurukshetra  cynoid       0.000\n",
       "352  2014-2015   Apr  Haryana  Insecticides      Kaithal  cynoid    6669.540\n",
       "353  2014-2015   Apr  Haryana  Insecticides      Panipat  cynoid    5635.980\n",
       "354  2014-2015   Apr  Haryana  Insecticides      Sonipat  cynoid    8605.710\n",
       "355  2014-2015   Apr  Haryana  Insecticides         Jind  cynoid    6534.000\n",
       "356  2014-2015   Apr  Haryana  Insecticides    Fatehabad  cynoid   13424.130\n",
       "357  2014-2015   Apr  Haryana  Insecticides        Sirsa  cynoid     364.500"
      ]
     },
     "execution_count": 12,
     "metadata": {},
     "output_type": "execute_result"
    }
   ],
   "source": [
    "# sorting the data on ascending order\n",
    "df1=df.sort_values(['FIN_YEAR','MONTH'],ascending=True) \n",
    "df1.head(10)"
   ]
  },
  {
   "cell_type": "code",
   "execution_count": 13,
   "metadata": {},
   "outputs": [],
   "source": [
    "# Convert month into datetime \n",
    "from datetime import datetime\n"
   ]
  },
  {
   "cell_type": "code",
   "execution_count": 14,
   "metadata": {},
   "outputs": [],
   "source": [
    "# create new variable on the basis of FIN_YEAR\n",
    "df1['Year']=''\n",
    "df1.Year=df1['FIN_YEAR'].str[0:4]"
   ]
  },
  {
   "cell_type": "code",
   "execution_count": 15,
   "metadata": {},
   "outputs": [
    {
     "data": {
      "text/html": [
       "<div>\n",
       "<style scoped>\n",
       "    .dataframe tbody tr th:only-of-type {\n",
       "        vertical-align: middle;\n",
       "    }\n",
       "\n",
       "    .dataframe tbody tr th {\n",
       "        vertical-align: top;\n",
       "    }\n",
       "\n",
       "    .dataframe thead th {\n",
       "        text-align: right;\n",
       "    }\n",
       "</style>\n",
       "<table border=\"1\" class=\"dataframe\">\n",
       "  <thead>\n",
       "    <tr style=\"text-align: right;\">\n",
       "      <th></th>\n",
       "      <th>FIN_YEAR</th>\n",
       "      <th>MONTH</th>\n",
       "      <th>STATE</th>\n",
       "      <th>FG</th>\n",
       "      <th>DISTRICT</th>\n",
       "      <th>COMPANY</th>\n",
       "      <th>VALUE</th>\n",
       "      <th>Year</th>\n",
       "    </tr>\n",
       "  </thead>\n",
       "  <tbody>\n",
       "    <tr>\n",
       "      <th>348</th>\n",
       "      <td>2014-2015</td>\n",
       "      <td>Apr</td>\n",
       "      <td>Haryana</td>\n",
       "      <td>Insecticides</td>\n",
       "      <td>Panchkula</td>\n",
       "      <td>cynoid</td>\n",
       "      <td>564.300</td>\n",
       "      <td>2014</td>\n",
       "    </tr>\n",
       "    <tr>\n",
       "      <th>349</th>\n",
       "      <td>2014-2015</td>\n",
       "      <td>Apr</td>\n",
       "      <td>Haryana</td>\n",
       "      <td>Insecticides</td>\n",
       "      <td>Ambala</td>\n",
       "      <td>cynoid</td>\n",
       "      <td>7039.305</td>\n",
       "      <td>2014</td>\n",
       "    </tr>\n",
       "    <tr>\n",
       "      <th>350</th>\n",
       "      <td>2014-2015</td>\n",
       "      <td>Apr</td>\n",
       "      <td>Haryana</td>\n",
       "      <td>Insecticides</td>\n",
       "      <td>Yamunanagar</td>\n",
       "      <td>cynoid</td>\n",
       "      <td>7385.040</td>\n",
       "      <td>2014</td>\n",
       "    </tr>\n",
       "    <tr>\n",
       "      <th>351</th>\n",
       "      <td>2014-2015</td>\n",
       "      <td>Apr</td>\n",
       "      <td>Haryana</td>\n",
       "      <td>Insecticides</td>\n",
       "      <td>Kurukshetra</td>\n",
       "      <td>cynoid</td>\n",
       "      <td>0.000</td>\n",
       "      <td>2014</td>\n",
       "    </tr>\n",
       "    <tr>\n",
       "      <th>352</th>\n",
       "      <td>2014-2015</td>\n",
       "      <td>Apr</td>\n",
       "      <td>Haryana</td>\n",
       "      <td>Insecticides</td>\n",
       "      <td>Kaithal</td>\n",
       "      <td>cynoid</td>\n",
       "      <td>6669.540</td>\n",
       "      <td>2014</td>\n",
       "    </tr>\n",
       "  </tbody>\n",
       "</table>\n",
       "</div>"
      ],
      "text/plain": [
       "      FIN_YEAR MONTH    STATE            FG     DISTRICT  COMPANY     VALUE  \\\n",
       "348  2014-2015   Apr  Haryana  Insecticides    Panchkula  cynoid    564.300   \n",
       "349  2014-2015   Apr  Haryana  Insecticides       Ambala  cynoid   7039.305   \n",
       "350  2014-2015   Apr  Haryana  Insecticides  Yamunanagar  cynoid   7385.040   \n",
       "351  2014-2015   Apr  Haryana  Insecticides  Kurukshetra  cynoid      0.000   \n",
       "352  2014-2015   Apr  Haryana  Insecticides      Kaithal  cynoid   6669.540   \n",
       "\n",
       "     Year  \n",
       "348  2014  \n",
       "349  2014  \n",
       "350  2014  \n",
       "351  2014  \n",
       "352  2014  "
      ]
     },
     "execution_count": 15,
     "metadata": {},
     "output_type": "execute_result"
    }
   ],
   "source": [
    "df1.head()"
   ]
  },
  {
   "cell_type": "code",
   "execution_count": 16,
   "metadata": {},
   "outputs": [],
   "source": [
    "# create new varible on the basis of month and year\n",
    "df1['Month_year']=''\n",
    "df1.Month_year=df1['MONTH']+df1['Year']"
   ]
  },
  {
   "cell_type": "code",
   "execution_count": 17,
   "metadata": {},
   "outputs": [
    {
     "data": {
      "text/html": [
       "<div>\n",
       "<style scoped>\n",
       "    .dataframe tbody tr th:only-of-type {\n",
       "        vertical-align: middle;\n",
       "    }\n",
       "\n",
       "    .dataframe tbody tr th {\n",
       "        vertical-align: top;\n",
       "    }\n",
       "\n",
       "    .dataframe thead th {\n",
       "        text-align: right;\n",
       "    }\n",
       "</style>\n",
       "<table border=\"1\" class=\"dataframe\">\n",
       "  <thead>\n",
       "    <tr style=\"text-align: right;\">\n",
       "      <th></th>\n",
       "      <th>FIN_YEAR</th>\n",
       "      <th>MONTH</th>\n",
       "      <th>STATE</th>\n",
       "      <th>FG</th>\n",
       "      <th>DISTRICT</th>\n",
       "      <th>COMPANY</th>\n",
       "      <th>VALUE</th>\n",
       "      <th>Year</th>\n",
       "      <th>Month_year</th>\n",
       "    </tr>\n",
       "  </thead>\n",
       "  <tbody>\n",
       "    <tr>\n",
       "      <th>348</th>\n",
       "      <td>2014-2015</td>\n",
       "      <td>Apr</td>\n",
       "      <td>Haryana</td>\n",
       "      <td>Insecticides</td>\n",
       "      <td>Panchkula</td>\n",
       "      <td>cynoid</td>\n",
       "      <td>564.300</td>\n",
       "      <td>2014</td>\n",
       "      <td>Apr2014</td>\n",
       "    </tr>\n",
       "    <tr>\n",
       "      <th>349</th>\n",
       "      <td>2014-2015</td>\n",
       "      <td>Apr</td>\n",
       "      <td>Haryana</td>\n",
       "      <td>Insecticides</td>\n",
       "      <td>Ambala</td>\n",
       "      <td>cynoid</td>\n",
       "      <td>7039.305</td>\n",
       "      <td>2014</td>\n",
       "      <td>Apr2014</td>\n",
       "    </tr>\n",
       "    <tr>\n",
       "      <th>350</th>\n",
       "      <td>2014-2015</td>\n",
       "      <td>Apr</td>\n",
       "      <td>Haryana</td>\n",
       "      <td>Insecticides</td>\n",
       "      <td>Yamunanagar</td>\n",
       "      <td>cynoid</td>\n",
       "      <td>7385.040</td>\n",
       "      <td>2014</td>\n",
       "      <td>Apr2014</td>\n",
       "    </tr>\n",
       "    <tr>\n",
       "      <th>351</th>\n",
       "      <td>2014-2015</td>\n",
       "      <td>Apr</td>\n",
       "      <td>Haryana</td>\n",
       "      <td>Insecticides</td>\n",
       "      <td>Kurukshetra</td>\n",
       "      <td>cynoid</td>\n",
       "      <td>0.000</td>\n",
       "      <td>2014</td>\n",
       "      <td>Apr2014</td>\n",
       "    </tr>\n",
       "    <tr>\n",
       "      <th>352</th>\n",
       "      <td>2014-2015</td>\n",
       "      <td>Apr</td>\n",
       "      <td>Haryana</td>\n",
       "      <td>Insecticides</td>\n",
       "      <td>Kaithal</td>\n",
       "      <td>cynoid</td>\n",
       "      <td>6669.540</td>\n",
       "      <td>2014</td>\n",
       "      <td>Apr2014</td>\n",
       "    </tr>\n",
       "  </tbody>\n",
       "</table>\n",
       "</div>"
      ],
      "text/plain": [
       "      FIN_YEAR MONTH    STATE            FG     DISTRICT  COMPANY     VALUE  \\\n",
       "348  2014-2015   Apr  Haryana  Insecticides    Panchkula  cynoid    564.300   \n",
       "349  2014-2015   Apr  Haryana  Insecticides       Ambala  cynoid   7039.305   \n",
       "350  2014-2015   Apr  Haryana  Insecticides  Yamunanagar  cynoid   7385.040   \n",
       "351  2014-2015   Apr  Haryana  Insecticides  Kurukshetra  cynoid      0.000   \n",
       "352  2014-2015   Apr  Haryana  Insecticides      Kaithal  cynoid   6669.540   \n",
       "\n",
       "     Year Month_year  \n",
       "348  2014    Apr2014  \n",
       "349  2014    Apr2014  \n",
       "350  2014    Apr2014  \n",
       "351  2014    Apr2014  \n",
       "352  2014    Apr2014  "
      ]
     },
     "execution_count": 17,
     "metadata": {},
     "output_type": "execute_result"
    }
   ],
   "source": [
    "# check new data \n",
    "df1.head()"
   ]
  },
  {
   "cell_type": "code",
   "execution_count": 18,
   "metadata": {},
   "outputs": [],
   "source": [
    "# convert Month_year into datetime format \n",
    "df1['Month_year']=pd.to_datetime(df1['Month_year'])"
   ]
  },
  {
   "cell_type": "code",
   "execution_count": 19,
   "metadata": {},
   "outputs": [
    {
     "data": {
      "text/html": [
       "<div>\n",
       "<style scoped>\n",
       "    .dataframe tbody tr th:only-of-type {\n",
       "        vertical-align: middle;\n",
       "    }\n",
       "\n",
       "    .dataframe tbody tr th {\n",
       "        vertical-align: top;\n",
       "    }\n",
       "\n",
       "    .dataframe thead th {\n",
       "        text-align: right;\n",
       "    }\n",
       "</style>\n",
       "<table border=\"1\" class=\"dataframe\">\n",
       "  <thead>\n",
       "    <tr style=\"text-align: right;\">\n",
       "      <th></th>\n",
       "      <th>FIN_YEAR</th>\n",
       "      <th>MONTH</th>\n",
       "      <th>STATE</th>\n",
       "      <th>FG</th>\n",
       "      <th>DISTRICT</th>\n",
       "      <th>COMPANY</th>\n",
       "      <th>VALUE</th>\n",
       "      <th>Year</th>\n",
       "      <th>Month_year</th>\n",
       "    </tr>\n",
       "  </thead>\n",
       "  <tbody>\n",
       "    <tr>\n",
       "      <th>348</th>\n",
       "      <td>2014-2015</td>\n",
       "      <td>Apr</td>\n",
       "      <td>Haryana</td>\n",
       "      <td>Insecticides</td>\n",
       "      <td>Panchkula</td>\n",
       "      <td>cynoid</td>\n",
       "      <td>564.300</td>\n",
       "      <td>2014</td>\n",
       "      <td>2014-04-01</td>\n",
       "    </tr>\n",
       "    <tr>\n",
       "      <th>349</th>\n",
       "      <td>2014-2015</td>\n",
       "      <td>Apr</td>\n",
       "      <td>Haryana</td>\n",
       "      <td>Insecticides</td>\n",
       "      <td>Ambala</td>\n",
       "      <td>cynoid</td>\n",
       "      <td>7039.305</td>\n",
       "      <td>2014</td>\n",
       "      <td>2014-04-01</td>\n",
       "    </tr>\n",
       "    <tr>\n",
       "      <th>350</th>\n",
       "      <td>2014-2015</td>\n",
       "      <td>Apr</td>\n",
       "      <td>Haryana</td>\n",
       "      <td>Insecticides</td>\n",
       "      <td>Yamunanagar</td>\n",
       "      <td>cynoid</td>\n",
       "      <td>7385.040</td>\n",
       "      <td>2014</td>\n",
       "      <td>2014-04-01</td>\n",
       "    </tr>\n",
       "    <tr>\n",
       "      <th>351</th>\n",
       "      <td>2014-2015</td>\n",
       "      <td>Apr</td>\n",
       "      <td>Haryana</td>\n",
       "      <td>Insecticides</td>\n",
       "      <td>Kurukshetra</td>\n",
       "      <td>cynoid</td>\n",
       "      <td>0.000</td>\n",
       "      <td>2014</td>\n",
       "      <td>2014-04-01</td>\n",
       "    </tr>\n",
       "    <tr>\n",
       "      <th>352</th>\n",
       "      <td>2014-2015</td>\n",
       "      <td>Apr</td>\n",
       "      <td>Haryana</td>\n",
       "      <td>Insecticides</td>\n",
       "      <td>Kaithal</td>\n",
       "      <td>cynoid</td>\n",
       "      <td>6669.540</td>\n",
       "      <td>2014</td>\n",
       "      <td>2014-04-01</td>\n",
       "    </tr>\n",
       "    <tr>\n",
       "      <th>...</th>\n",
       "      <td>...</td>\n",
       "      <td>...</td>\n",
       "      <td>...</td>\n",
       "      <td>...</td>\n",
       "      <td>...</td>\n",
       "      <td>...</td>\n",
       "      <td>...</td>\n",
       "      <td>...</td>\n",
       "      <td>...</td>\n",
       "    </tr>\n",
       "    <tr>\n",
       "      <th>227233</th>\n",
       "      <td>2017-2018</td>\n",
       "      <td>Sep</td>\n",
       "      <td>Uttar Pradesh</td>\n",
       "      <td>Bactericides</td>\n",
       "      <td>Sonbhadra</td>\n",
       "      <td>janu</td>\n",
       "      <td>0.000</td>\n",
       "      <td>2017</td>\n",
       "      <td>2017-09-01</td>\n",
       "    </tr>\n",
       "    <tr>\n",
       "      <th>227234</th>\n",
       "      <td>2017-2018</td>\n",
       "      <td>Sep</td>\n",
       "      <td>Uttar Pradesh</td>\n",
       "      <td>Bactericides</td>\n",
       "      <td>Etah</td>\n",
       "      <td>janu</td>\n",
       "      <td>0.000</td>\n",
       "      <td>2017</td>\n",
       "      <td>2017-09-01</td>\n",
       "    </tr>\n",
       "    <tr>\n",
       "      <th>227235</th>\n",
       "      <td>2017-2018</td>\n",
       "      <td>Sep</td>\n",
       "      <td>Uttar Pradesh</td>\n",
       "      <td>Bactericides</td>\n",
       "      <td>Kanshiram Nagar</td>\n",
       "      <td>janu</td>\n",
       "      <td>0.000</td>\n",
       "      <td>2017</td>\n",
       "      <td>2017-09-01</td>\n",
       "    </tr>\n",
       "    <tr>\n",
       "      <th>227308</th>\n",
       "      <td>2017-2018</td>\n",
       "      <td>Sep</td>\n",
       "      <td>Himachal Pradesh</td>\n",
       "      <td>Bactericides</td>\n",
       "      <td>Shimla</td>\n",
       "      <td>ABC Manufacturing</td>\n",
       "      <td>0.000</td>\n",
       "      <td>2017</td>\n",
       "      <td>2017-09-01</td>\n",
       "    </tr>\n",
       "    <tr>\n",
       "      <th>227309</th>\n",
       "      <td>2017-2018</td>\n",
       "      <td>Sep</td>\n",
       "      <td>Uttar Pradesh</td>\n",
       "      <td>Bactericides</td>\n",
       "      <td>Ambedkar Nagar</td>\n",
       "      <td>ABC Manufacturing</td>\n",
       "      <td>0.000</td>\n",
       "      <td>2017</td>\n",
       "      <td>2017-09-01</td>\n",
       "    </tr>\n",
       "  </tbody>\n",
       "</table>\n",
       "<p>230152 rows × 9 columns</p>\n",
       "</div>"
      ],
      "text/plain": [
       "         FIN_YEAR MONTH             STATE            FG         DISTRICT  \\\n",
       "348     2014-2015   Apr           Haryana  Insecticides        Panchkula   \n",
       "349     2014-2015   Apr           Haryana  Insecticides           Ambala   \n",
       "350     2014-2015   Apr           Haryana  Insecticides      Yamunanagar   \n",
       "351     2014-2015   Apr           Haryana  Insecticides      Kurukshetra   \n",
       "352     2014-2015   Apr           Haryana  Insecticides          Kaithal   \n",
       "...           ...   ...               ...           ...              ...   \n",
       "227233  2017-2018   Sep     Uttar Pradesh  Bactericides        Sonbhadra   \n",
       "227234  2017-2018   Sep     Uttar Pradesh  Bactericides             Etah   \n",
       "227235  2017-2018   Sep     Uttar Pradesh  Bactericides  Kanshiram Nagar   \n",
       "227308  2017-2018   Sep  Himachal Pradesh  Bactericides           Shimla   \n",
       "227309  2017-2018   Sep     Uttar Pradesh  Bactericides   Ambedkar Nagar   \n",
       "\n",
       "                  COMPANY     VALUE  Year Month_year  \n",
       "348               cynoid    564.300  2014 2014-04-01  \n",
       "349               cynoid   7039.305  2014 2014-04-01  \n",
       "350               cynoid   7385.040  2014 2014-04-01  \n",
       "351               cynoid      0.000  2014 2014-04-01  \n",
       "352               cynoid   6669.540  2014 2014-04-01  \n",
       "...                   ...       ...   ...        ...  \n",
       "227233              janu      0.000  2017 2017-09-01  \n",
       "227234              janu      0.000  2017 2017-09-01  \n",
       "227235              janu      0.000  2017 2017-09-01  \n",
       "227308  ABC Manufacturing     0.000  2017 2017-09-01  \n",
       "227309  ABC Manufacturing     0.000  2017 2017-09-01  \n",
       "\n",
       "[230152 rows x 9 columns]"
      ]
     },
     "execution_count": 19,
     "metadata": {},
     "output_type": "execute_result"
    }
   ],
   "source": [
    "df1"
   ]
  },
  {
   "cell_type": "code",
   "execution_count": 20,
   "metadata": {},
   "outputs": [],
   "source": [
    "# Convert file into excel format \n",
    "df1.to_excel('capstone Project.xlsx', index = False)"
   ]
  },
  {
   "cell_type": "code",
   "execution_count": 21,
   "metadata": {},
   "outputs": [
    {
     "data": {
      "text/html": [
       "<div>\n",
       "<style scoped>\n",
       "    .dataframe tbody tr th:only-of-type {\n",
       "        vertical-align: middle;\n",
       "    }\n",
       "\n",
       "    .dataframe tbody tr th {\n",
       "        vertical-align: top;\n",
       "    }\n",
       "\n",
       "    .dataframe thead th {\n",
       "        text-align: right;\n",
       "    }\n",
       "</style>\n",
       "<table border=\"1\" class=\"dataframe\">\n",
       "  <thead>\n",
       "    <tr style=\"text-align: right;\">\n",
       "      <th></th>\n",
       "      <th>Month_year</th>\n",
       "      <th>VALUE</th>\n",
       "    </tr>\n",
       "  </thead>\n",
       "  <tbody>\n",
       "    <tr>\n",
       "      <th>0</th>\n",
       "      <td>2014-01-01</td>\n",
       "      <td>3.937522e+06</td>\n",
       "    </tr>\n",
       "    <tr>\n",
       "      <th>1</th>\n",
       "      <td>2014-02-01</td>\n",
       "      <td>3.101152e+06</td>\n",
       "    </tr>\n",
       "    <tr>\n",
       "      <th>2</th>\n",
       "      <td>2014-03-01</td>\n",
       "      <td>3.311789e+06</td>\n",
       "    </tr>\n",
       "    <tr>\n",
       "      <th>3</th>\n",
       "      <td>2014-04-01</td>\n",
       "      <td>1.826280e+06</td>\n",
       "    </tr>\n",
       "    <tr>\n",
       "      <th>4</th>\n",
       "      <td>2014-05-01</td>\n",
       "      <td>2.527515e+06</td>\n",
       "    </tr>\n",
       "    <tr>\n",
       "      <th>5</th>\n",
       "      <td>2014-06-01</td>\n",
       "      <td>3.116540e+06</td>\n",
       "    </tr>\n",
       "    <tr>\n",
       "      <th>6</th>\n",
       "      <td>2014-07-01</td>\n",
       "      <td>3.257798e+06</td>\n",
       "    </tr>\n",
       "    <tr>\n",
       "      <th>7</th>\n",
       "      <td>2014-08-01</td>\n",
       "      <td>3.576263e+06</td>\n",
       "    </tr>\n",
       "    <tr>\n",
       "      <th>8</th>\n",
       "      <td>2014-09-01</td>\n",
       "      <td>3.213171e+06</td>\n",
       "    </tr>\n",
       "    <tr>\n",
       "      <th>9</th>\n",
       "      <td>2014-10-01</td>\n",
       "      <td>3.626687e+06</td>\n",
       "    </tr>\n",
       "    <tr>\n",
       "      <th>10</th>\n",
       "      <td>2014-11-01</td>\n",
       "      <td>4.926552e+06</td>\n",
       "    </tr>\n",
       "    <tr>\n",
       "      <th>11</th>\n",
       "      <td>2014-12-01</td>\n",
       "      <td>4.712866e+06</td>\n",
       "    </tr>\n",
       "    <tr>\n",
       "      <th>12</th>\n",
       "      <td>2015-01-01</td>\n",
       "      <td>3.119698e+06</td>\n",
       "    </tr>\n",
       "    <tr>\n",
       "      <th>13</th>\n",
       "      <td>2015-02-01</td>\n",
       "      <td>2.355526e+06</td>\n",
       "    </tr>\n",
       "    <tr>\n",
       "      <th>14</th>\n",
       "      <td>2015-03-01</td>\n",
       "      <td>4.785982e+06</td>\n",
       "    </tr>\n",
       "  </tbody>\n",
       "</table>\n",
       "</div>"
      ],
      "text/plain": [
       "   Month_year         VALUE\n",
       "0  2014-01-01  3.937522e+06\n",
       "1  2014-02-01  3.101152e+06\n",
       "2  2014-03-01  3.311789e+06\n",
       "3  2014-04-01  1.826280e+06\n",
       "4  2014-05-01  2.527515e+06\n",
       "5  2014-06-01  3.116540e+06\n",
       "6  2014-07-01  3.257798e+06\n",
       "7  2014-08-01  3.576263e+06\n",
       "8  2014-09-01  3.213171e+06\n",
       "9  2014-10-01  3.626687e+06\n",
       "10 2014-11-01  4.926552e+06\n",
       "11 2014-12-01  4.712866e+06\n",
       "12 2015-01-01  3.119698e+06\n",
       "13 2015-02-01  2.355526e+06\n",
       "14 2015-03-01  4.785982e+06"
      ]
     },
     "execution_count": 21,
     "metadata": {},
     "output_type": "execute_result"
    }
   ],
   "source": [
    "# grouping the data on the basis of Month_year and Value\n",
    "df2=df1.groupby('Month_year')['VALUE'].sum().reset_index()\n",
    "df2.head(15)"
   ]
  },
  {
   "cell_type": "code",
   "execution_count": 22,
   "metadata": {},
   "outputs": [
    {
     "data": {
      "text/plain": [
       "(46, 2)"
      ]
     },
     "execution_count": 22,
     "metadata": {},
     "output_type": "execute_result"
    }
   ],
   "source": [
    "# check shape of the new data\n",
    "df2.shape"
   ]
  },
  {
   "cell_type": "code",
   "execution_count": 23,
   "metadata": {},
   "outputs": [],
   "source": [
    "# Set Month_year as a Index\n",
    "df2=df2.set_index(\"Month_year\")"
   ]
  },
  {
   "cell_type": "code",
   "execution_count": 24,
   "metadata": {},
   "outputs": [
    {
     "data": {
      "text/html": [
       "<div>\n",
       "<style scoped>\n",
       "    .dataframe tbody tr th:only-of-type {\n",
       "        vertical-align: middle;\n",
       "    }\n",
       "\n",
       "    .dataframe tbody tr th {\n",
       "        vertical-align: top;\n",
       "    }\n",
       "\n",
       "    .dataframe thead th {\n",
       "        text-align: right;\n",
       "    }\n",
       "</style>\n",
       "<table border=\"1\" class=\"dataframe\">\n",
       "  <thead>\n",
       "    <tr style=\"text-align: right;\">\n",
       "      <th></th>\n",
       "      <th>VALUE</th>\n",
       "    </tr>\n",
       "    <tr>\n",
       "      <th>Month_year</th>\n",
       "      <th></th>\n",
       "    </tr>\n",
       "  </thead>\n",
       "  <tbody>\n",
       "    <tr>\n",
       "      <th>2014-01-01</th>\n",
       "      <td>3.937522e+06</td>\n",
       "    </tr>\n",
       "    <tr>\n",
       "      <th>2014-02-01</th>\n",
       "      <td>3.101152e+06</td>\n",
       "    </tr>\n",
       "    <tr>\n",
       "      <th>2014-03-01</th>\n",
       "      <td>3.311789e+06</td>\n",
       "    </tr>\n",
       "    <tr>\n",
       "      <th>2014-04-01</th>\n",
       "      <td>1.826280e+06</td>\n",
       "    </tr>\n",
       "    <tr>\n",
       "      <th>2014-05-01</th>\n",
       "      <td>2.527515e+06</td>\n",
       "    </tr>\n",
       "  </tbody>\n",
       "</table>\n",
       "</div>"
      ],
      "text/plain": [
       "                   VALUE\n",
       "Month_year              \n",
       "2014-01-01  3.937522e+06\n",
       "2014-02-01  3.101152e+06\n",
       "2014-03-01  3.311789e+06\n",
       "2014-04-01  1.826280e+06\n",
       "2014-05-01  2.527515e+06"
      ]
     },
     "execution_count": 24,
     "metadata": {},
     "output_type": "execute_result"
    }
   ],
   "source": [
    "df2.head()"
   ]
  },
  {
   "cell_type": "code",
   "execution_count": 25,
   "metadata": {},
   "outputs": [
    {
     "data": {
      "text/plain": [
       "Month_year\n",
       "2014-01-01    3.937522e+06\n",
       "2014-02-01    3.101152e+06\n",
       "2014-03-01    3.311789e+06\n",
       "2014-04-01    1.826280e+06\n",
       "2014-05-01    2.527515e+06\n",
       "2014-06-01    3.116540e+06\n",
       "2014-07-01    3.257798e+06\n",
       "2014-08-01    3.576263e+06\n",
       "2014-09-01    3.213171e+06\n",
       "2014-10-01    3.626687e+06\n",
       "2014-11-01    4.926552e+06\n",
       "2014-12-01    4.712866e+06\n",
       "2015-01-01    3.119698e+06\n",
       "2015-02-01    2.355526e+06\n",
       "2015-03-01    4.785982e+06\n",
       "2015-04-01    2.562099e+06\n",
       "2015-05-01    3.361275e+06\n",
       "2015-06-01    3.171509e+06\n",
       "2015-07-01    3.602441e+06\n",
       "2015-08-01    3.608316e+06\n",
       "2015-09-01    4.218848e+06\n",
       "2015-10-01    4.418285e+06\n",
       "2015-11-01    4.506923e+06\n",
       "2015-12-01    4.313427e+06\n",
       "2016-01-01    3.362859e+06\n",
       "2016-02-01    2.274134e+06\n",
       "2016-03-01    3.594612e+06\n",
       "2016-04-01    1.303618e+06\n",
       "2016-05-01    2.537274e+06\n",
       "2016-06-01    3.396644e+06\n",
       "2016-07-01    2.926428e+06\n",
       "2016-08-01    3.779580e+06\n",
       "2016-09-01    4.060725e+06\n",
       "2016-10-01    3.382497e+06\n",
       "2016-11-01    4.997825e+06\n",
       "2016-12-01    4.609633e+06\n",
       "2017-01-01    3.166624e+06\n",
       "2017-02-01             NaN\n",
       "2017-03-01             NaN\n",
       "2017-04-01    1.209841e+06\n",
       "2017-05-01    4.046920e+06\n",
       "2017-06-01    3.858971e+06\n",
       "2017-07-01    2.870314e+06\n",
       "2017-08-01    3.522574e+06\n",
       "2017-09-01    3.476237e+06\n",
       "2017-10-01    4.263954e+06\n",
       "2017-11-01    5.594397e+06\n",
       "2017-12-01    4.856957e+06\n",
       "Freq: MS, Name: VALUE, dtype: float64"
      ]
     },
     "execution_count": 25,
     "metadata": {},
     "output_type": "execute_result"
    }
   ],
   "source": [
    "#Resample the data on Monthly basis\n",
    "y=df2['VALUE'].resample('MS').mean()\n",
    "y"
   ]
  },
  {
   "cell_type": "code",
   "execution_count": 26,
   "metadata": {},
   "outputs": [
    {
     "data": {
      "text/plain": [
       "(48,)"
      ]
     },
     "execution_count": 26,
     "metadata": {},
     "output_type": "execute_result"
    }
   ],
   "source": [
    "# check shape\n",
    "y.shape"
   ]
  },
  {
   "cell_type": "code",
   "execution_count": 27,
   "metadata": {},
   "outputs": [
    {
     "data": {
      "text/plain": [
       "2"
      ]
     },
     "execution_count": 27,
     "metadata": {},
     "output_type": "execute_result"
    }
   ],
   "source": [
    "# ckeck if their is any missing value in data \n",
    "y.isnull().sum()"
   ]
  },
  {
   "cell_type": "code",
   "execution_count": 28,
   "metadata": {},
   "outputs": [
    {
     "data": {
      "text/plain": [
       "Month_year\n",
       "2014-01-01    3937521.500\n",
       "2014-02-01    3101152.000\n",
       "2014-03-01    3311789.250\n",
       "2014-04-01    1826279.625\n",
       "2014-05-01    2527515.000\n",
       "2014-06-01    3116539.500\n",
       "2014-07-01    3257798.000\n",
       "2014-08-01    3576262.750\n",
       "2014-09-01    3213171.250\n",
       "2014-10-01    3626686.750\n",
       "2014-11-01    4926552.500\n",
       "2014-12-01    4712866.500\n",
       "2015-01-01    3119698.000\n",
       "2015-02-01    2355526.250\n",
       "2015-03-01    4785982.000\n",
       "2015-04-01    2562099.500\n",
       "2015-05-01    3361274.750\n",
       "2015-06-01    3171508.750\n",
       "2015-07-01    3602441.250\n",
       "2015-08-01    3608315.500\n",
       "2015-09-01    4218848.000\n",
       "2015-10-01    4418285.000\n",
       "2015-11-01    4506923.500\n",
       "2015-12-01    4313427.000\n",
       "2016-01-01    3362858.500\n",
       "2016-02-01    2274133.500\n",
       "2016-03-01    3594612.250\n",
       "2016-04-01    1303618.500\n",
       "2016-05-01    2537274.500\n",
       "2016-06-01    3396644.250\n",
       "2016-07-01    2926428.500\n",
       "2016-08-01    3779580.250\n",
       "2016-09-01    4060724.500\n",
       "2016-10-01    3382496.500\n",
       "2016-11-01    4997825.500\n",
       "2016-12-01    4609633.500\n",
       "2017-01-01    3166623.500\n",
       "2017-02-01    3527197.500\n",
       "2017-03-01    3527197.500\n",
       "2017-04-01    1209840.750\n",
       "2017-05-01    4046919.500\n",
       "2017-06-01    3858970.750\n",
       "2017-07-01    2870314.000\n",
       "2017-08-01    3522573.750\n",
       "2017-09-01    3476237.250\n",
       "2017-10-01    4263954.500\n",
       "2017-11-01    5594396.500\n",
       "2017-12-01    4856957.000\n",
       "Freq: MS, Name: VALUE, dtype: float32"
      ]
     },
     "execution_count": 28,
     "metadata": {},
     "output_type": "execute_result"
    }
   ],
   "source": [
    "# fill missing values with mean value of the data \n",
    "y=y.fillna(y.mean())\n",
    "y.astype('float32')"
   ]
  },
  {
   "cell_type": "code",
   "execution_count": 29,
   "metadata": {},
   "outputs": [],
   "source": [
    "# convert data into excel format \n",
    "y.to_excel(\" data for Forecast2018.xlsx\",index=True)"
   ]
  },
  {
   "cell_type": "code",
   "execution_count": 30,
   "metadata": {},
   "outputs": [
    {
     "data": {
      "image/png": "[encoded data removed]",
      "text/plain": [
       "<Figure size 720x432 with 1 Axes>"
      ]
     },
     "metadata": {
      "needs_background": "light"
     },
     "output_type": "display_data"
    }
   ],
   "source": [
    "#Graph the plot \n",
    "y.plot(figsize=(10,6))\n",
    "plt.show()"
   ]
  },
  {
   "cell_type": "code",
   "execution_count": 31,
   "metadata": {},
   "outputs": [],
   "source": [
    "#Split train and test data \n",
    "train=y.loc[:'2016-12-01']\n",
    "#train.tail()  "
   ]
  },
  {
   "cell_type": "code",
   "execution_count": 32,
   "metadata": {},
   "outputs": [],
   "source": [
    "#Split test data \n",
    "test=y.loc['2017-01-01':]\n",
    "#test.tail()"
   ]
  },
  {
   "cell_type": "code",
   "execution_count": 33,
   "metadata": {},
   "outputs": [
    {
     "data": {
      "image/png": "[encoded data removed]",
      "text/plain": [
       "<Figure size 720x432 with 1 Axes>"
      ]
     },
     "metadata": {
      "needs_background": "light"
     },
     "output_type": "display_data"
    }
   ],
   "source": [
    "#Plotting the data \n",
    "train.plot(figsize=(10,6),title='Avg sales',fontsize=14)\n",
    "test.plot(figsize=(10,6),title='Avg sales',fontsize=14)\n",
    "plt.show()"
   ]
  },
  {
   "cell_type": "code",
   "execution_count": 34,
   "metadata": {},
   "outputs": [
    {
     "name": "stderr",
     "output_type": "stream",
     "text": [
      "C:\\Users\\Abhishek\\anaconda3\\lib\\site-packages\\statsmodels\\tsa\\holtwinters.py:731: RuntimeWarning: invalid value encountered in greater_equal\n",
      "  loc = initial_p >= ub\n"
     ]
    },
    {
     "data": {
      "image/png": "[encoded data removed]",
      "text/plain": [
       "<Figure size 720x432 with 1 Axes>"
      ]
     },
     "metadata": {
      "needs_background": "light"
     },
     "output_type": "display_data"
    }
   ],
   "source": [
    "# Apply simple exponantial smoothing \n",
    "from statsmodels.tsa.api import SimpleExpSmoothing\n",
    "Exp_smooth=test.copy()\n",
    "\n",
    "# Smoothing Level=alpha\n",
    "#alpha value should be in the range of 0 to 1\n",
    "# value close to 0 indicate that older value is less imp then recent value \n",
    "# value close to 1 indicate that older value is equally imp then recent value\n",
    "fit1=SimpleExpSmoothing(train).fit(smoothing_level=0.01)\n",
    "Exp_smooth['SES']=fit1.forecast(steps=len(test))\n",
    "\n",
    "# plot the graph \n",
    "train.plot(figsize=(10,6),title='Avg sales',fontsize=14)\n",
    "test.plot(figsize=(10,6),title='Avg sales',fontsize=14)\n",
    "Exp_smooth['SES'].plot(figsize=(10,6),title='Avg sales',fontsize=14)\n",
    "plt.savefig(\"simple exponantial smoothing.pdf\")\n",
    "plt.show() "
   ]
  },
  {
   "cell_type": "code",
   "execution_count": 35,
   "metadata": {},
   "outputs": [
    {
     "data": {
      "text/plain": [
       "988.181917406821"
      ]
     },
     "execution_count": 35,
     "metadata": {},
     "output_type": "execute_result"
    }
   ],
   "source": [
    "#check AIC \n",
    "# AIC is used for compare the same model with diffrent data or parameter  \n",
    "fit1.aic"
   ]
  },
  {
   "cell_type": "markdown",
   "metadata": {},
   "source": [
    "smoothing_level=0.01 aic=988.181917406821\n",
    "\n",
    "\n"
   ]
  },
  {
   "cell_type": "code",
   "execution_count": 36,
   "metadata": {},
   "outputs": [
    {
     "name": "stdout",
     "output_type": "stream",
     "text": [
      "1042557.9583302685\n"
     ]
    }
   ],
   "source": [
    "#check RMSE \n",
    "# RMSE is used to compare different model with same data or parameter \n",
    "#choose model with lower rmse value\n",
    "from sklearn.metrics import mean_squared_error\n",
    "from math import sqrt\n",
    "rms=sqrt(mean_squared_error(test,Exp_smooth.SES))\n",
    "print(rms)"
   ]
  },
  {
   "cell_type": "code",
   "execution_count": 37,
   "metadata": {},
   "outputs": [],
   "source": [
    "from pylab import rcParams\n",
    "import statsmodels.api as sm\n",
    "\n",
    "rcParams['figure.figsize'] =12,8\n",
    "decomposition = sm.tsa.seasonal_decompose(y,model= 'additive')\n",
    "#fig= decomposition.plot()\n",
    "#plt.show()"
   ]
  },
  {
   "cell_type": "code",
   "execution_count": 38,
   "metadata": {},
   "outputs": [],
   "source": [
    "import statsmodels as sm\n",
    "import statsmodels.api as sm\n",
    "import matplotlib.pyplot as plt\n",
    "decomposition = sm.tsa.seasonal_decompose(x=y, model = 'additive')\n",
    "plt.rcParams.update({'figure.figsize': (5,5)})\n",
    "#fig = decomposition.plot()"
   ]
  },
  {
   "cell_type": "code",
   "execution_count": 39,
   "metadata": {},
   "outputs": [
    {
     "name": "stderr",
     "output_type": "stream",
     "text": [
      "C:\\Users\\Abhishek\\anaconda3\\lib\\site-packages\\statsmodels\\tsa\\holtwinters.py:731: RuntimeWarning: invalid value encountered in greater_equal\n",
      "  loc = initial_p >= ub\n"
     ]
    },
    {
     "data": {
      "image/png": "[encoded data removed]",
      "text/plain": [
       "<Figure size 720x432 with 1 Axes>"
      ]
     },
     "metadata": {
      "needs_background": "light"
     },
     "output_type": "display_data"
    }
   ],
   "source": [
    "# bulid Holt model\n",
    "from statsmodels.tsa.api import Holt\n",
    "Holt_df = test.copy()\n",
    "#soothing slope=beta\n",
    "fit1 = Holt(train).fit(smoothing_level = 0.1,smoothing_slope = 0.5)\n",
    "Holt_df['Holt_linear'] = fit1.forecast(len(test))\n",
    "\n",
    "train.plot(figsize=(10,6), title= 'Average Sales', fontsize=14)\n",
    "test.plot(figsize=(10,6), title= 'Average Sales', fontsize=14)\n",
    "Holt_df['Holt_linear'].plot(figsize=(10,6), title= 'Average Sales', fontsize=14)\n",
    "plt.savefig(\"bulid Holt model.pdf\")\n",
    "plt.show()"
   ]
  },
  {
   "cell_type": "code",
   "execution_count": 40,
   "metadata": {},
   "outputs": [
    {
     "data": {
      "text/plain": [
       "1011.4524091732663"
      ]
     },
     "execution_count": 40,
     "metadata": {},
     "output_type": "execute_result"
    }
   ],
   "source": [
    "fit1.aic"
   ]
  },
  {
   "cell_type": "code",
   "execution_count": 41,
   "metadata": {},
   "outputs": [
    {
     "name": "stdout",
     "output_type": "stream",
     "text": [
      "887137.6031183947\n"
     ]
    }
   ],
   "source": [
    "# check rmse value of the model\n",
    "from sklearn.metrics import mean_squared_error\n",
    "from math import sqrt\n",
    "rms = sqrt(mean_squared_error(test, Holt_df['Holt_linear']))\n",
    "print(rms)"
   ]
  },
  {
   "cell_type": "code",
   "execution_count": 42,
   "metadata": {},
   "outputs": [
    {
     "name": "stderr",
     "output_type": "stream",
     "text": [
      "C:\\Users\\Abhishek\\anaconda3\\lib\\site-packages\\statsmodels\\tsa\\holtwinters.py:725: RuntimeWarning: invalid value encountered in less_equal\n",
      "  loc = initial_p <= lb\n",
      "C:\\Users\\Abhishek\\anaconda3\\lib\\site-packages\\statsmodels\\tsa\\holtwinters.py:731: RuntimeWarning: invalid value encountered in greater_equal\n",
      "  loc = initial_p >= ub\n"
     ]
    },
    {
     "data": {
      "image/png": "[encoded data removed]",
      "text/plain": [
       "<Figure size 720x432 with 1 Axes>"
      ]
     },
     "metadata": {
      "needs_background": "light"
     },
     "output_type": "display_data"
    }
   ],
   "source": [
    "# bulid Holt-Winter model\n",
    "from statsmodels.tsa.api import ExponentialSmoothing\n",
    "Holt_Winter_df = test.copy()\n",
    "#seasonalperiods=gamma\n",
    "fit1 = ExponentialSmoothing(train ,seasonal_periods=12,\n",
    "                            trend='add',\n",
    "                            seasonal='add').fit()\n",
    "Holt_Winter_df['Holt_Winter'] = fit1.forecast(len(test))\n",
    "\n",
    "train.plot(figsize=(10,6), title= 'Average Sales', fontsize=14)\n",
    "test.plot(figsize=(10,6), title= 'Average Sales', fontsize=14)\n",
    "Holt_Winter_df['Holt_Winter'].plot(figsize=(10,6), title= 'Average Sales', fontsize=14)\n",
    "plt.savefig(\"bulid Holt-Winter model.pdf\")\n",
    "plt.show()"
   ]
  },
  {
   "cell_type": "code",
   "execution_count": 43,
   "metadata": {},
   "outputs": [
    {
     "name": "stdout",
     "output_type": "stream",
     "text": [
      "660395.6948305807\n"
     ]
    }
   ],
   "source": [
    "# check rmse of the model\n",
    "from sklearn.metrics import mean_squared_error\n",
    "from math import sqrt\n",
    "rms = sqrt(mean_squared_error(test, Holt_Winter_df['Holt_Winter']))\n",
    "print(rms)"
   ]
  },
  {
   "cell_type": "code",
   "execution_count": 44,
   "metadata": {},
   "outputs": [
    {
     "data": {
      "text/plain": [
       "958.5277880430567"
      ]
     },
     "execution_count": 44,
     "metadata": {},
     "output_type": "execute_result"
    }
   ],
   "source": [
    "fit1.aic"
   ]
  },
  {
   "cell_type": "code",
   "execution_count": 45,
   "metadata": {},
   "outputs": [],
   "source": [
    "# import package for ARIMA model\n",
    "import pmdarima as pm"
   ]
  },
  {
   "cell_type": "code",
   "execution_count": 56,
   "metadata": {},
   "outputs": [
    {
     "name": "stdout",
     "output_type": "stream",
     "text": [
      "Performing stepwise search to minimize aic\n",
      " ARIMA(0,1,0)(0,1,0)[12]             : AIC=1061.380, Time=1.07 sec\n",
      " ARIMA(1,1,0)(1,1,0)[12]             : AIC=1057.846, Time=0.61 sec\n"
     ]
    },
    {
     "name": "stderr",
     "output_type": "stream",
     "text": [
      "C:\\Users\\Abhishek\\anaconda3\\lib\\site-packages\\statsmodels\\tsa\\statespace\\sarimax.py:868: UserWarning: Too few observations to estimate starting parameters for seasonal ARMA. All parameters except for variances will be set to zeros.\n",
      "  ' zeros.' % warning_description)\n"
     ]
    },
    {
     "name": "stdout",
     "output_type": "stream",
     "text": [
      " ARIMA(0,1,1)(0,1,1)[12]             : AIC=1054.681, Time=1.10 sec\n",
      " ARIMA(0,1,1)(0,1,0)[12]             : AIC=1056.511, Time=0.06 sec\n"
     ]
    },
    {
     "name": "stderr",
     "output_type": "stream",
     "text": [
      "C:\\Users\\Abhishek\\anaconda3\\lib\\site-packages\\statsmodels\\tsa\\statespace\\sarimax.py:868: UserWarning: Too few observations to estimate starting parameters for seasonal ARMA. All parameters except for variances will be set to zeros.\n",
      "  ' zeros.' % warning_description)\n"
     ]
    },
    {
     "name": "stdout",
     "output_type": "stream",
     "text": [
      " ARIMA(0,1,1)(1,1,1)[12]             : AIC=1056.636, Time=0.36 sec\n"
     ]
    },
    {
     "name": "stderr",
     "output_type": "stream",
     "text": [
      "C:\\Users\\Abhishek\\anaconda3\\lib\\site-packages\\statsmodels\\tsa\\statespace\\sarimax.py:868: UserWarning: Too few observations to estimate starting parameters for seasonal ARMA. All parameters except for variances will be set to zeros.\n",
      "  ' zeros.' % warning_description)\n"
     ]
    },
    {
     "name": "stdout",
     "output_type": "stream",
     "text": [
      " ARIMA(0,1,1)(0,1,2)[12]             : AIC=1056.646, Time=0.88 sec\n",
      " ARIMA(0,1,1)(1,1,0)[12]             : AIC=1054.941, Time=0.21 sec\n"
     ]
    },
    {
     "name": "stderr",
     "output_type": "stream",
     "text": [
      "C:\\Users\\Abhishek\\anaconda3\\lib\\site-packages\\statsmodels\\tsa\\statespace\\sarimax.py:868: UserWarning: Too few observations to estimate starting parameters for seasonal ARMA. All parameters except for variances will be set to zeros.\n",
      "  ' zeros.' % warning_description)\n",
      "C:\\Users\\Abhishek\\anaconda3\\lib\\site-packages\\statsmodels\\base\\model.py:568: ConvergenceWarning: Maximum Likelihood optimization failed to converge. Check mle_retvals\n",
      "  \"Check mle_retvals\", ConvergenceWarning)\n",
      "C:\\Users\\Abhishek\\anaconda3\\lib\\site-packages\\statsmodels\\tsa\\statespace\\sarimax.py:868: UserWarning: Too few observations to estimate starting parameters for seasonal ARMA. All parameters except for variances will be set to zeros.\n",
      "  ' zeros.' % warning_description)\n",
      "C:\\Users\\Abhishek\\anaconda3\\lib\\site-packages\\statsmodels\\tsa\\statespace\\sarimax.py:868: UserWarning: Too few observations to estimate starting parameters for seasonal ARMA. All parameters except for variances will be set to zeros.\n",
      "  ' zeros.' % warning_description)\n"
     ]
    },
    {
     "name": "stdout",
     "output_type": "stream",
     "text": [
      " ARIMA(0,1,1)(1,1,2)[12]             : AIC=inf, Time=1.86 sec\n",
      " ARIMA(0,1,0)(0,1,1)[12]             : AIC=1058.262, Time=0.09 sec\n",
      " ARIMA(1,1,1)(0,1,1)[12]             : AIC=1054.648, Time=0.20 sec\n",
      " ARIMA(1,1,1)(0,1,0)[12]             : AIC=1055.233, Time=0.14 sec\n"
     ]
    },
    {
     "name": "stderr",
     "output_type": "stream",
     "text": [
      "C:\\Users\\Abhishek\\anaconda3\\lib\\site-packages\\statsmodels\\tsa\\statespace\\sarimax.py:868: UserWarning: Too few observations to estimate starting parameters for seasonal ARMA. All parameters except for variances will be set to zeros.\n",
      "  ' zeros.' % warning_description)\n"
     ]
    },
    {
     "name": "stdout",
     "output_type": "stream",
     "text": [
      " ARIMA(1,1,1)(1,1,1)[12]             : AIC=1056.606, Time=0.39 sec\n"
     ]
    },
    {
     "name": "stderr",
     "output_type": "stream",
     "text": [
      "C:\\Users\\Abhishek\\anaconda3\\lib\\site-packages\\statsmodels\\tsa\\statespace\\sarimax.py:868: UserWarning: Too few observations to estimate starting parameters for seasonal ARMA. All parameters except for variances will be set to zeros.\n",
      "  ' zeros.' % warning_description)\n"
     ]
    },
    {
     "name": "stdout",
     "output_type": "stream",
     "text": [
      " ARIMA(1,1,1)(0,1,2)[12]             : AIC=1056.625, Time=0.50 sec\n",
      " ARIMA(1,1,1)(1,1,0)[12]             : AIC=1054.769, Time=0.19 sec\n"
     ]
    },
    {
     "name": "stderr",
     "output_type": "stream",
     "text": [
      "C:\\Users\\Abhishek\\anaconda3\\lib\\site-packages\\statsmodels\\tsa\\statespace\\sarimax.py:868: UserWarning: Too few observations to estimate starting parameters for seasonal ARMA. All parameters except for variances will be set to zeros.\n",
      "  ' zeros.' % warning_description)\n"
     ]
    },
    {
     "name": "stdout",
     "output_type": "stream",
     "text": [
      " ARIMA(1,1,1)(1,1,2)[12]             : AIC=inf, Time=3.40 sec\n"
     ]
    },
    {
     "name": "stderr",
     "output_type": "stream",
     "text": [
      "C:\\Users\\Abhishek\\anaconda3\\lib\\site-packages\\statsmodels\\tsa\\statespace\\sarimax.py:868: UserWarning: Too few observations to estimate starting parameters for seasonal ARMA. All parameters except for variances will be set to zeros.\n",
      "  ' zeros.' % warning_description)\n"
     ]
    },
    {
     "name": "stdout",
     "output_type": "stream",
     "text": [
      " ARIMA(1,1,0)(0,1,1)[12]             : AIC=1057.690, Time=0.24 sec\n"
     ]
    },
    {
     "name": "stderr",
     "output_type": "stream",
     "text": [
      "C:\\Users\\Abhishek\\anaconda3\\lib\\site-packages\\statsmodels\\tsa\\statespace\\sarimax.py:868: UserWarning: Too few observations to estimate starting parameters for seasonal ARMA. All parameters except for variances will be set to zeros.\n",
      "  ' zeros.' % warning_description)\n"
     ]
    },
    {
     "name": "stdout",
     "output_type": "stream",
     "text": [
      " ARIMA(2,1,1)(0,1,1)[12]             : AIC=1046.887, Time=0.51 sec\n",
      " ARIMA(2,1,1)(0,1,0)[12]             : AIC=1052.733, Time=0.12 sec\n"
     ]
    },
    {
     "name": "stderr",
     "output_type": "stream",
     "text": [
      "C:\\Users\\Abhishek\\anaconda3\\lib\\site-packages\\statsmodels\\tsa\\statespace\\sarimax.py:868: UserWarning: Too few observations to estimate starting parameters for seasonal ARMA. All parameters except for variances will be set to zeros.\n",
      "  ' zeros.' % warning_description)\n"
     ]
    },
    {
     "name": "stdout",
     "output_type": "stream",
     "text": [
      " ARIMA(2,1,1)(1,1,1)[12]             : AIC=1047.737, Time=0.59 sec\n"
     ]
    },
    {
     "name": "stderr",
     "output_type": "stream",
     "text": [
      "C:\\Users\\Abhishek\\anaconda3\\lib\\site-packages\\statsmodels\\tsa\\statespace\\sarimax.py:868: UserWarning: Too few observations to estimate starting parameters for seasonal ARMA. All parameters except for variances will be set to zeros.\n",
      "  ' zeros.' % warning_description)\n"
     ]
    },
    {
     "name": "stdout",
     "output_type": "stream",
     "text": [
      " ARIMA(2,1,1)(0,1,2)[12]             : AIC=1047.923, Time=0.94 sec\n",
      " ARIMA(2,1,1)(1,1,0)[12]             : AIC=1047.881, Time=0.43 sec\n"
     ]
    },
    {
     "name": "stderr",
     "output_type": "stream",
     "text": [
      "C:\\Users\\Abhishek\\anaconda3\\lib\\site-packages\\statsmodels\\tsa\\statespace\\sarimax.py:868: UserWarning: Too few observations to estimate starting parameters for seasonal ARMA. All parameters except for variances will be set to zeros.\n",
      "  ' zeros.' % warning_description)\n"
     ]
    },
    {
     "name": "stdout",
     "output_type": "stream",
     "text": [
      " ARIMA(2,1,1)(1,1,2)[12]             : AIC=1049.736, Time=1.42 sec\n",
      " ARIMA(2,1,0)(0,1,1)[12]             : AIC=1050.832, Time=0.12 sec\n"
     ]
    },
    {
     "name": "stderr",
     "output_type": "stream",
     "text": [
      "C:\\Users\\Abhishek\\anaconda3\\lib\\site-packages\\statsmodels\\tsa\\statespace\\sarimax.py:868: UserWarning: Too few observations to estimate starting parameters for seasonal ARMA. All parameters except for variances will be set to zeros.\n",
      "  ' zeros.' % warning_description)\n"
     ]
    },
    {
     "name": "stdout",
     "output_type": "stream",
     "text": [
      " ARIMA(3,1,1)(0,1,1)[12]             : AIC=1048.808, Time=0.69 sec\n"
     ]
    },
    {
     "name": "stderr",
     "output_type": "stream",
     "text": [
      "C:\\Users\\Abhishek\\anaconda3\\lib\\site-packages\\statsmodels\\tsa\\statespace\\sarimax.py:868: UserWarning: Too few observations to estimate starting parameters for seasonal ARMA. All parameters except for variances will be set to zeros.\n",
      "  ' zeros.' % warning_description)\n",
      "C:\\Users\\Abhishek\\anaconda3\\lib\\site-packages\\statsmodels\\tsa\\statespace\\sarimax.py:868: UserWarning: Too few observations to estimate starting parameters for seasonal ARMA. All parameters except for variances will be set to zeros.\n",
      "  ' zeros.' % warning_description)\n"
     ]
    },
    {
     "name": "stdout",
     "output_type": "stream",
     "text": [
      " ARIMA(2,1,2)(0,1,1)[12]             : AIC=1048.325, Time=1.15 sec\n"
     ]
    },
    {
     "name": "stderr",
     "output_type": "stream",
     "text": [
      "C:\\Users\\Abhishek\\anaconda3\\lib\\site-packages\\statsmodels\\tsa\\statespace\\sarimax.py:868: UserWarning: Too few observations to estimate starting parameters for seasonal ARMA. All parameters except for variances will be set to zeros.\n",
      "  ' zeros.' % warning_description)\n"
     ]
    },
    {
     "name": "stdout",
     "output_type": "stream",
     "text": [
      " ARIMA(1,1,2)(0,1,1)[12]             : AIC=1047.539, Time=0.23 sec\n",
      " ARIMA(3,1,0)(0,1,1)[12]             : AIC=1052.480, Time=0.17 sec\n"
     ]
    },
    {
     "name": "stderr",
     "output_type": "stream",
     "text": [
      "C:\\Users\\Abhishek\\anaconda3\\lib\\site-packages\\statsmodels\\tsa\\statespace\\sarimax.py:868: UserWarning: Too few observations to estimate starting parameters for seasonal ARMA. All parameters except for variances will be set to zeros.\n",
      "  ' zeros.' % warning_description)\n",
      "C:\\Users\\Abhishek\\anaconda3\\lib\\site-packages\\statsmodels\\tsa\\statespace\\sarimax.py:868: UserWarning: Too few observations to estimate starting parameters for seasonal ARMA. All parameters except for variances will be set to zeros.\n",
      "  ' zeros.' % warning_description)\n"
     ]
    },
    {
     "name": "stdout",
     "output_type": "stream",
     "text": [
      " ARIMA(3,1,2)(0,1,1)[12]             : AIC=1049.834, Time=0.53 sec\n"
     ]
    },
    {
     "name": "stderr",
     "output_type": "stream",
     "text": [
      "C:\\Users\\Abhishek\\anaconda3\\lib\\site-packages\\statsmodels\\tsa\\statespace\\sarimax.py:868: UserWarning: Too few observations to estimate starting parameters for seasonal ARMA. All parameters except for variances will be set to zeros.\n",
      "  ' zeros.' % warning_description)\n"
     ]
    },
    {
     "name": "stdout",
     "output_type": "stream",
     "text": [
      " ARIMA(2,1,1)(0,1,1)[12] intercept   : AIC=1048.864, Time=0.46 sec\n",
      "\n",
      "Best model:  ARIMA(2,1,1)(0,1,1)[12]          \n",
      "Total fit time: 20.538 seconds\n"
     ]
    }
   ],
   "source": [
    "model = pm.auto_arima(y,start_p=0, max_p=3, d=None, max_d=2,start_q=0, max_q=3,  \n",
    "                      start_P=0,max_P=3, D=None, max_D=2, start_Q=0, max_Q=3,\n",
    "                      max_order=10, m=12, seasonal=True, information_criterion='aic',\n",
    "                      test='adf',trace=True,random_state=10)"
   ]
  },
  {
   "cell_type": "code",
   "execution_count": 58,
   "metadata": {},
   "outputs": [
    {
     "data": {
      "text/plain": [
       "1046.8869526771198"
      ]
     },
     "execution_count": 58,
     "metadata": {},
     "output_type": "execute_result"
    }
   ],
   "source": [
    "model.aic()"
   ]
  },
  {
   "cell_type": "code",
   "execution_count": 60,
   "metadata": {},
   "outputs": [
    {
     "name": "stderr",
     "output_type": "stream",
     "text": [
      "C:\\Users\\Abhishek\\anaconda3\\lib\\site-packages\\statsmodels\\tsa\\statespace\\sarimax.py:868: UserWarning: Too few observations to estimate starting parameters for seasonal ARMA. All parameters except for variances will be set to zeros.\n",
      "  ' zeros.' % warning_description)\n"
     ]
    }
   ],
   "source": [
    "# import SARIMAX from statsmodel\n",
    "from statsmodels.tsa.statespace.sarimax import SARIMAX\n",
    "model1 = SARIMAX(y,\n",
    "                order=(2,1,1),seasonal_order=(0,1,1,12)).fit()\n"
   ]
  },
  {
   "cell_type": "code",
   "execution_count": 61,
   "metadata": {},
   "outputs": [
    {
     "data": {
      "image/png": "[encoded data removed]",
      "text/plain": [
       "<Figure size 720x432 with 1 Axes>"
      ]
     },
     "metadata": {
      "needs_background": "light"
     },
     "output_type": "display_data"
    }
   ],
   "source": [
    "# perform validation forecast model on given data \n",
    "pred =model1.get_prediction(start=pd.to_datetime('2017-01-01'))\n",
    "plt.figure(figsize=(10,6))\n",
    "ax = y['2014':].plot(label='observed')\n",
    "pred.predicted_mean.plot(ax=ax, label='Validation Forecast')\n",
    "ax.set_xlabel('Month_Year')\n",
    "ax.set_ylabel('VALUE')\n",
    "plt.legend()\n",
    "plt.show()"
   ]
  },
  {
   "cell_type": "code",
   "execution_count": 62,
   "metadata": {},
   "outputs": [
    {
     "data": {
      "text/plain": [
       "Month_year\n",
       "2017-01-01    3.461068e+06\n",
       "2017-02-01    2.625400e+06\n",
       "2017-03-01    4.796863e+06\n",
       "2017-04-01    1.027534e+06\n",
       "2017-05-01    3.214175e+06\n",
       "2017-06-01    3.827027e+06\n",
       "2017-07-01    3.567326e+06\n",
       "2017-08-01    3.975323e+06\n",
       "2017-09-01    3.789715e+06\n",
       "2017-10-01    3.104114e+06\n",
       "2017-11-01    5.521106e+06\n",
       "2017-12-01    4.712294e+06\n",
       "Freq: MS, dtype: float64"
      ]
     },
     "execution_count": 62,
     "metadata": {},
     "output_type": "execute_result"
    }
   ],
   "source": [
    "# check mean of the validation forecast model\n",
    "pred.predicted_mean"
   ]
  },
  {
   "cell_type": "code",
   "execution_count": 63,
   "metadata": {},
   "outputs": [
    {
     "name": "stdout",
     "output_type": "stream",
     "text": [
      "670839.6255450038\n"
     ]
    }
   ],
   "source": [
    "# check rmse of the model\n",
    "Y_pred = pred.predicted_mean\n",
    "Y_test = y['2017-01-01':]\n",
    "\n",
    "from sklearn.metrics import mean_squared_error\n",
    "from math import sqrt\n",
    "rms = sqrt(mean_squared_error(Y_test,Y_pred))\n",
    "print(rms)\n"
   ]
  },
  {
   "cell_type": "code",
   "execution_count": 64,
   "metadata": {},
   "outputs": [
    {
     "data": {
      "text/plain": [
       "1046.8869526771198"
      ]
     },
     "execution_count": 64,
     "metadata": {},
     "output_type": "execute_result"
    }
   ],
   "source": [
    "model1.aic"
   ]
  },
  {
   "cell_type": "code",
   "execution_count": 53,
   "metadata": {},
   "outputs": [
    {
     "data": {
      "image/png": "[encoded data removed]",
      "text/plain": [
       "<Figure size 720x432 with 1 Axes>"
      ]
     },
     "metadata": {
      "needs_background": "light"
     },
     "output_type": "display_data"
    }
   ],
   "source": [
    "# Forecasting2018 pesticide sales \n",
    "pred_uc = model1.get_forecast(steps=12)\n",
    "plt.figure(figsize=(10,6))\n",
    "ax = y['2014':].plot(label='observed')\n",
    "pred_uc.predicted_mean.plot(ax=ax, label='One-step ahead Forecast')\n",
    "plt.title(\"Forecasting2018 Pesticide sales\")\n",
    "ax.set_xlabel('Month_Year')\n",
    "ax.set_ylabel('VALUE')\n",
    "plt.legend()\n",
    "plt.savefig(\"Forecasting2018 Pesticide sales.pdf\")\n",
    "plt.show()"
   ]
  },
  {
   "cell_type": "code",
   "execution_count": 54,
   "metadata": {},
   "outputs": [
    {
     "data": {
      "text/plain": [
       "2018-01-01    4.043728e+06\n",
       "2018-02-01    3.813554e+06\n",
       "2018-03-01    4.212346e+06\n",
       "2018-04-01    2.037082e+06\n",
       "2018-05-01    4.293941e+06\n",
       "2018-06-01    4.363136e+06\n",
       "2018-07-01    3.595912e+06\n",
       "2018-08-01    4.218621e+06\n",
       "2018-09-01    4.288034e+06\n",
       "2018-10-01    4.729301e+06\n",
       "2018-11-01    6.036845e+06\n",
       "2018-12-01    5.418233e+06\n",
       "Freq: MS, dtype: float64"
      ]
     },
     "execution_count": 54,
     "metadata": {},
     "output_type": "execute_result"
    }
   ],
   "source": [
    "# check forecast2018 data \n",
    "Y_predictions=pred_uc.predicted_mean\n",
    "Y_predictions"
   ]
  },
  {
   "cell_type": "code",
   "execution_count": 55,
   "metadata": {},
   "outputs": [],
   "source": [
    "# convert data into excel format \n",
    "Y_predictions.to_excel(\"Forecast2018.xlsx\",index=True)"
   ]
  },
  {
   "cell_type": "code",
   "execution_count": 56,
   "metadata": {},
   "outputs": [],
   "source": [
    "# saving the model to the local file system\n",
    "import pickle\n",
    "filename = 'pesticide sales Forecast.pickle'\n",
    "pickle.dump(model1, open(filename, 'wb'))"
   ]
  },
  {
   "cell_type": "code",
   "execution_count": 57,
   "metadata": {},
   "outputs": [
    {
     "data": {
      "image/png": "[encoded data removed]",
      "text/plain": [
       "<Figure size 720x432 with 1 Axes>"
      ]
     },
     "metadata": {
      "needs_background": "light"
     },
     "output_type": "display_data"
    }
   ],
   "source": [
    "# Forecasting2018 pesticide sales \n",
    "test_model = model1.get_forecast(steps=24)\n",
    "plt.figure(figsize=(10,6))\n",
    "ax = y['2014':].plot(label='observed')\n",
    "pred_uc.predicted_mean.plot(ax=ax, label='One-step ahead Forecast')\n",
    "plt.title(\"Forecasting2018 Pesticide sales\")\n",
    "ax.set_xlabel('Month_Year')\n",
    "ax.set_ylabel('VALUE')\n",
    "plt.legend()\n",
    "plt.savefig(\"Forecasting2018 Pesticide sales.pdf\")\n",
    "plt.show()"
   ]
  },
  {
   "cell_type": "markdown",
   "metadata": {},
   "source": [
    "# Conduct state wise trend analysis of the given sales"
   ]
  },
  {
   "cell_type": "code",
   "execution_count": 58,
   "metadata": {},
   "outputs": [],
   "source": [
    "# copy data\n",
    "state=df1.copy()"
   ]
  },
  {
   "cell_type": "code",
   "execution_count": 59,
   "metadata": {},
   "outputs": [
    {
     "data": {
      "text/html": [
       "<div>\n",
       "<style scoped>\n",
       "    .dataframe tbody tr th:only-of-type {\n",
       "        vertical-align: middle;\n",
       "    }\n",
       "\n",
       "    .dataframe tbody tr th {\n",
       "        vertical-align: top;\n",
       "    }\n",
       "\n",
       "    .dataframe thead th {\n",
       "        text-align: right;\n",
       "    }\n",
       "</style>\n",
       "<table border=\"1\" class=\"dataframe\">\n",
       "  <thead>\n",
       "    <tr style=\"text-align: right;\">\n",
       "      <th></th>\n",
       "      <th>FIN_YEAR</th>\n",
       "      <th>MONTH</th>\n",
       "      <th>STATE</th>\n",
       "      <th>FG</th>\n",
       "      <th>DISTRICT</th>\n",
       "      <th>COMPANY</th>\n",
       "      <th>VALUE</th>\n",
       "      <th>Year</th>\n",
       "      <th>Month_year</th>\n",
       "    </tr>\n",
       "  </thead>\n",
       "  <tbody>\n",
       "    <tr>\n",
       "      <th>348</th>\n",
       "      <td>2014-2015</td>\n",
       "      <td>Apr</td>\n",
       "      <td>Haryana</td>\n",
       "      <td>Insecticides</td>\n",
       "      <td>Panchkula</td>\n",
       "      <td>cynoid</td>\n",
       "      <td>564.300</td>\n",
       "      <td>2014</td>\n",
       "      <td>2014-04-01</td>\n",
       "    </tr>\n",
       "    <tr>\n",
       "      <th>349</th>\n",
       "      <td>2014-2015</td>\n",
       "      <td>Apr</td>\n",
       "      <td>Haryana</td>\n",
       "      <td>Insecticides</td>\n",
       "      <td>Ambala</td>\n",
       "      <td>cynoid</td>\n",
       "      <td>7039.305</td>\n",
       "      <td>2014</td>\n",
       "      <td>2014-04-01</td>\n",
       "    </tr>\n",
       "    <tr>\n",
       "      <th>350</th>\n",
       "      <td>2014-2015</td>\n",
       "      <td>Apr</td>\n",
       "      <td>Haryana</td>\n",
       "      <td>Insecticides</td>\n",
       "      <td>Yamunanagar</td>\n",
       "      <td>cynoid</td>\n",
       "      <td>7385.040</td>\n",
       "      <td>2014</td>\n",
       "      <td>2014-04-01</td>\n",
       "    </tr>\n",
       "    <tr>\n",
       "      <th>351</th>\n",
       "      <td>2014-2015</td>\n",
       "      <td>Apr</td>\n",
       "      <td>Haryana</td>\n",
       "      <td>Insecticides</td>\n",
       "      <td>Kurukshetra</td>\n",
       "      <td>cynoid</td>\n",
       "      <td>0.000</td>\n",
       "      <td>2014</td>\n",
       "      <td>2014-04-01</td>\n",
       "    </tr>\n",
       "    <tr>\n",
       "      <th>352</th>\n",
       "      <td>2014-2015</td>\n",
       "      <td>Apr</td>\n",
       "      <td>Haryana</td>\n",
       "      <td>Insecticides</td>\n",
       "      <td>Kaithal</td>\n",
       "      <td>cynoid</td>\n",
       "      <td>6669.540</td>\n",
       "      <td>2014</td>\n",
       "      <td>2014-04-01</td>\n",
       "    </tr>\n",
       "  </tbody>\n",
       "</table>\n",
       "</div>"
      ],
      "text/plain": [
       "      FIN_YEAR MONTH    STATE            FG     DISTRICT  COMPANY     VALUE  \\\n",
       "348  2014-2015   Apr  Haryana  Insecticides    Panchkula  cynoid    564.300   \n",
       "349  2014-2015   Apr  Haryana  Insecticides       Ambala  cynoid   7039.305   \n",
       "350  2014-2015   Apr  Haryana  Insecticides  Yamunanagar  cynoid   7385.040   \n",
       "351  2014-2015   Apr  Haryana  Insecticides  Kurukshetra  cynoid      0.000   \n",
       "352  2014-2015   Apr  Haryana  Insecticides      Kaithal  cynoid   6669.540   \n",
       "\n",
       "     Year Month_year  \n",
       "348  2014 2014-04-01  \n",
       "349  2014 2014-04-01  \n",
       "350  2014 2014-04-01  \n",
       "351  2014 2014-04-01  \n",
       "352  2014 2014-04-01  "
      ]
     },
     "execution_count": 59,
     "metadata": {},
     "output_type": "execute_result"
    }
   ],
   "source": [
    "state.head()"
   ]
  },
  {
   "cell_type": "code",
   "execution_count": 60,
   "metadata": {},
   "outputs": [
    {
     "data": {
      "text/plain": [
       "Uttar Pradesh       122644\n",
       "Haryana              53568\n",
       "Punjab               41316\n",
       "Himachal Pradesh      8092\n",
       "Uttarakhand           4532\n",
       "Name: STATE, dtype: int64"
      ]
     },
     "execution_count": 60,
     "metadata": {},
     "output_type": "execute_result"
    }
   ],
   "source": [
    "state[\"STATE\"].value_counts()"
   ]
  },
  {
   "cell_type": "code",
   "execution_count": 61,
   "metadata": {},
   "outputs": [
    {
     "data": {
      "text/html": [
       "<div>\n",
       "<style scoped>\n",
       "    .dataframe tbody tr th:only-of-type {\n",
       "        vertical-align: middle;\n",
       "    }\n",
       "\n",
       "    .dataframe tbody tr th {\n",
       "        vertical-align: top;\n",
       "    }\n",
       "\n",
       "    .dataframe thead th {\n",
       "        text-align: right;\n",
       "    }\n",
       "</style>\n",
       "<table border=\"1\" class=\"dataframe\">\n",
       "  <thead>\n",
       "    <tr style=\"text-align: right;\">\n",
       "      <th></th>\n",
       "      <th>Month_year</th>\n",
       "      <th>STATE</th>\n",
       "      <th>VALUE</th>\n",
       "    </tr>\n",
       "  </thead>\n",
       "  <tbody>\n",
       "    <tr>\n",
       "      <th>348</th>\n",
       "      <td>2014-04-01</td>\n",
       "      <td>Haryana</td>\n",
       "      <td>564.300</td>\n",
       "    </tr>\n",
       "    <tr>\n",
       "      <th>349</th>\n",
       "      <td>2014-04-01</td>\n",
       "      <td>Haryana</td>\n",
       "      <td>7039.305</td>\n",
       "    </tr>\n",
       "    <tr>\n",
       "      <th>350</th>\n",
       "      <td>2014-04-01</td>\n",
       "      <td>Haryana</td>\n",
       "      <td>7385.040</td>\n",
       "    </tr>\n",
       "    <tr>\n",
       "      <th>351</th>\n",
       "      <td>2014-04-01</td>\n",
       "      <td>Haryana</td>\n",
       "      <td>0.000</td>\n",
       "    </tr>\n",
       "    <tr>\n",
       "      <th>352</th>\n",
       "      <td>2014-04-01</td>\n",
       "      <td>Haryana</td>\n",
       "      <td>6669.540</td>\n",
       "    </tr>\n",
       "  </tbody>\n",
       "</table>\n",
       "</div>"
      ],
      "text/plain": [
       "    Month_year    STATE     VALUE\n",
       "348 2014-04-01  Haryana   564.300\n",
       "349 2014-04-01  Haryana  7039.305\n",
       "350 2014-04-01  Haryana  7385.040\n",
       "351 2014-04-01  Haryana     0.000\n",
       "352 2014-04-01  Haryana  6669.540"
      ]
     },
     "execution_count": 61,
     "metadata": {},
     "output_type": "execute_result"
    }
   ],
   "source": [
    "state=state[['Month_year','STATE','VALUE']]\n",
    "state.head()"
   ]
  },
  {
   "cell_type": "markdown",
   "metadata": {},
   "source": [
    "# STATE=HARYANA"
   ]
  },
  {
   "cell_type": "code",
   "execution_count": 62,
   "metadata": {},
   "outputs": [],
   "source": [
    "#create new dataframe on the basis of Haryana state and value\n",
    "haryana = state.loc[state['STATE'] == 'Haryana']"
   ]
  },
  {
   "cell_type": "code",
   "execution_count": 63,
   "metadata": {},
   "outputs": [
    {
     "data": {
      "text/html": [
       "<div>\n",
       "<style scoped>\n",
       "    .dataframe tbody tr th:only-of-type {\n",
       "        vertical-align: middle;\n",
       "    }\n",
       "\n",
       "    .dataframe tbody tr th {\n",
       "        vertical-align: top;\n",
       "    }\n",
       "\n",
       "    .dataframe thead th {\n",
       "        text-align: right;\n",
       "    }\n",
       "</style>\n",
       "<table border=\"1\" class=\"dataframe\">\n",
       "  <thead>\n",
       "    <tr style=\"text-align: right;\">\n",
       "      <th></th>\n",
       "      <th>Month_year</th>\n",
       "      <th>STATE</th>\n",
       "      <th>VALUE</th>\n",
       "    </tr>\n",
       "  </thead>\n",
       "  <tbody>\n",
       "    <tr>\n",
       "      <th>348</th>\n",
       "      <td>2014-04-01</td>\n",
       "      <td>Haryana</td>\n",
       "      <td>564.300</td>\n",
       "    </tr>\n",
       "    <tr>\n",
       "      <th>349</th>\n",
       "      <td>2014-04-01</td>\n",
       "      <td>Haryana</td>\n",
       "      <td>7039.305</td>\n",
       "    </tr>\n",
       "    <tr>\n",
       "      <th>350</th>\n",
       "      <td>2014-04-01</td>\n",
       "      <td>Haryana</td>\n",
       "      <td>7385.040</td>\n",
       "    </tr>\n",
       "    <tr>\n",
       "      <th>351</th>\n",
       "      <td>2014-04-01</td>\n",
       "      <td>Haryana</td>\n",
       "      <td>0.000</td>\n",
       "    </tr>\n",
       "    <tr>\n",
       "      <th>352</th>\n",
       "      <td>2014-04-01</td>\n",
       "      <td>Haryana</td>\n",
       "      <td>6669.540</td>\n",
       "    </tr>\n",
       "  </tbody>\n",
       "</table>\n",
       "</div>"
      ],
      "text/plain": [
       "    Month_year    STATE     VALUE\n",
       "348 2014-04-01  Haryana   564.300\n",
       "349 2014-04-01  Haryana  7039.305\n",
       "350 2014-04-01  Haryana  7385.040\n",
       "351 2014-04-01  Haryana     0.000\n",
       "352 2014-04-01  Haryana  6669.540"
      ]
     },
     "execution_count": 63,
     "metadata": {},
     "output_type": "execute_result"
    }
   ],
   "source": [
    "haryana.head()"
   ]
  },
  {
   "cell_type": "code",
   "execution_count": 64,
   "metadata": {},
   "outputs": [
    {
     "data": {
      "text/html": [
       "<div>\n",
       "<style scoped>\n",
       "    .dataframe tbody tr th:only-of-type {\n",
       "        vertical-align: middle;\n",
       "    }\n",
       "\n",
       "    .dataframe tbody tr th {\n",
       "        vertical-align: top;\n",
       "    }\n",
       "\n",
       "    .dataframe thead th {\n",
       "        text-align: right;\n",
       "    }\n",
       "</style>\n",
       "<table border=\"1\" class=\"dataframe\">\n",
       "  <thead>\n",
       "    <tr style=\"text-align: right;\">\n",
       "      <th></th>\n",
       "      <th>Month_year</th>\n",
       "      <th>VALUE</th>\n",
       "    </tr>\n",
       "  </thead>\n",
       "  <tbody>\n",
       "    <tr>\n",
       "      <th>0</th>\n",
       "      <td>2014-01-01</td>\n",
       "      <td>723076.335</td>\n",
       "    </tr>\n",
       "    <tr>\n",
       "      <th>1</th>\n",
       "      <td>2014-02-01</td>\n",
       "      <td>457637.175</td>\n",
       "    </tr>\n",
       "    <tr>\n",
       "      <th>2</th>\n",
       "      <td>2014-03-01</td>\n",
       "      <td>340099.830</td>\n",
       "    </tr>\n",
       "    <tr>\n",
       "      <th>3</th>\n",
       "      <td>2014-04-01</td>\n",
       "      <td>213921.270</td>\n",
       "    </tr>\n",
       "    <tr>\n",
       "      <th>4</th>\n",
       "      <td>2014-05-01</td>\n",
       "      <td>412634.115</td>\n",
       "    </tr>\n",
       "  </tbody>\n",
       "</table>\n",
       "</div>"
      ],
      "text/plain": [
       "  Month_year       VALUE\n",
       "0 2014-01-01  723076.335\n",
       "1 2014-02-01  457637.175\n",
       "2 2014-03-01  340099.830\n",
       "3 2014-04-01  213921.270\n",
       "4 2014-05-01  412634.115"
      ]
     },
     "execution_count": 64,
     "metadata": {},
     "output_type": "execute_result"
    }
   ],
   "source": [
    "haryana=haryana.groupby('Month_year')['VALUE'].sum().reset_index()\n",
    "haryana.head()"
   ]
  },
  {
   "cell_type": "code",
   "execution_count": 65,
   "metadata": {},
   "outputs": [],
   "source": [
    "# Set Month_year as a Index\n",
    "haryana=haryana.set_index(\"Month_year\")"
   ]
  },
  {
   "cell_type": "code",
   "execution_count": 66,
   "metadata": {},
   "outputs": [],
   "source": [
    "#Resample the data on Monthly basis\n",
    "y=haryana['VALUE'].resample('MS').mean()\n",
    "#y"
   ]
  },
  {
   "cell_type": "code",
   "execution_count": 67,
   "metadata": {},
   "outputs": [],
   "source": [
    "y=y.fillna(y.mean())\n",
    "#y"
   ]
  },
  {
   "cell_type": "code",
   "execution_count": 68,
   "metadata": {},
   "outputs": [
    {
     "data": {
      "image/png": "[encoded data removed]",
      "text/plain": [
       "<Figure size 720x432 with 1 Axes>"
      ]
     },
     "metadata": {
      "needs_background": "light"
     },
     "output_type": "display_data"
    }
   ],
   "source": [
    "#Graph the plot \n",
    "y.plot(figsize=(10,6))\n",
    "plt.title(\"Trend Analysis for Haryana State\")\n",
    "plt.savefig(\"Trend Analysis for Haryana State.pdf\")\n",
    "plt.show()"
   ]
  },
  {
   "cell_type": "markdown",
   "metadata": {},
   "source": [
    "# STATE=UTTAR PRADESH"
   ]
  },
  {
   "cell_type": "code",
   "execution_count": 69,
   "metadata": {},
   "outputs": [
    {
     "data": {
      "text/plain": [
       "(122644, 3)"
      ]
     },
     "execution_count": 69,
     "metadata": {},
     "output_type": "execute_result"
    }
   ],
   "source": [
    "# create new dataframe on the basis of Uttar Pradesh\n",
    "up = state.loc[state['STATE'] == 'Uttar Pradesh']\n",
    "up.shape"
   ]
  },
  {
   "cell_type": "code",
   "execution_count": 70,
   "metadata": {},
   "outputs": [
    {
     "data": {
      "text/html": [
       "<div>\n",
       "<style scoped>\n",
       "    .dataframe tbody tr th:only-of-type {\n",
       "        vertical-align: middle;\n",
       "    }\n",
       "\n",
       "    .dataframe tbody tr th {\n",
       "        vertical-align: top;\n",
       "    }\n",
       "\n",
       "    .dataframe thead th {\n",
       "        text-align: right;\n",
       "    }\n",
       "</style>\n",
       "<table border=\"1\" class=\"dataframe\">\n",
       "  <thead>\n",
       "    <tr style=\"text-align: right;\">\n",
       "      <th></th>\n",
       "      <th>Month_year</th>\n",
       "      <th>VALUE</th>\n",
       "    </tr>\n",
       "  </thead>\n",
       "  <tbody>\n",
       "    <tr>\n",
       "      <th>0</th>\n",
       "      <td>2014-01-01</td>\n",
       "      <td>2.343644e+06</td>\n",
       "    </tr>\n",
       "    <tr>\n",
       "      <th>1</th>\n",
       "      <td>2014-02-01</td>\n",
       "      <td>1.877097e+06</td>\n",
       "    </tr>\n",
       "    <tr>\n",
       "      <th>2</th>\n",
       "      <td>2014-03-01</td>\n",
       "      <td>2.395011e+06</td>\n",
       "    </tr>\n",
       "    <tr>\n",
       "      <th>3</th>\n",
       "      <td>2014-04-01</td>\n",
       "      <td>7.756594e+05</td>\n",
       "    </tr>\n",
       "    <tr>\n",
       "      <th>4</th>\n",
       "      <td>2014-05-01</td>\n",
       "      <td>1.287090e+06</td>\n",
       "    </tr>\n",
       "  </tbody>\n",
       "</table>\n",
       "</div>"
      ],
      "text/plain": [
       "  Month_year         VALUE\n",
       "0 2014-01-01  2.343644e+06\n",
       "1 2014-02-01  1.877097e+06\n",
       "2 2014-03-01  2.395011e+06\n",
       "3 2014-04-01  7.756594e+05\n",
       "4 2014-05-01  1.287090e+06"
      ]
     },
     "execution_count": 70,
     "metadata": {},
     "output_type": "execute_result"
    }
   ],
   "source": [
    "up=up.groupby('Month_year')['VALUE'].sum().reset_index()\n",
    "up.head()"
   ]
  },
  {
   "cell_type": "code",
   "execution_count": 71,
   "metadata": {},
   "outputs": [],
   "source": [
    "# Set Month_year as a Index\n",
    "up=up.set_index(\"Month_year\")"
   ]
  },
  {
   "cell_type": "code",
   "execution_count": 72,
   "metadata": {},
   "outputs": [
    {
     "data": {
      "text/plain": [
       "Month_year\n",
       "2014-01-01    2.343644e+06\n",
       "2014-02-01    1.877097e+06\n",
       "2014-03-01    2.395011e+06\n",
       "2014-04-01    7.756594e+05\n",
       "2014-05-01    1.287090e+06\n",
       "2014-06-01    1.448486e+06\n",
       "2014-07-01    1.764072e+06\n",
       "2014-08-01    2.254021e+06\n",
       "2014-09-01    1.925052e+06\n",
       "2014-10-01    1.975757e+06\n",
       "2014-11-01    2.925865e+06\n",
       "2014-12-01    2.590510e+06\n",
       "2015-01-01    1.872961e+06\n",
       "2015-02-01    1.283992e+06\n",
       "2015-03-01    3.314801e+06\n",
       "2015-04-01    1.082186e+06\n",
       "2015-05-01    1.623407e+06\n",
       "2015-06-01    1.604634e+06\n",
       "2015-07-01    2.009204e+06\n",
       "2015-08-01    2.001198e+06\n",
       "2015-09-01    2.220735e+06\n",
       "2015-10-01    1.972842e+06\n",
       "2015-11-01    2.555516e+06\n",
       "2015-12-01    2.501667e+06\n",
       "2016-01-01    2.136016e+06\n",
       "2016-02-01    1.419104e+06\n",
       "2016-03-01    2.381239e+06\n",
       "2016-04-01    6.785787e+05\n",
       "2016-05-01    1.367219e+06\n",
       "2016-06-01    1.532681e+06\n",
       "2016-07-01    1.478979e+06\n",
       "2016-08-01    2.105689e+06\n",
       "2016-09-01    2.244851e+06\n",
       "2016-10-01    1.808780e+06\n",
       "2016-11-01    2.782726e+06\n",
       "2016-12-01    2.442273e+06\n",
       "2017-01-01    2.038101e+06\n",
       "2017-02-01             NaN\n",
       "2017-03-01             NaN\n",
       "2017-04-01    5.025830e+05\n",
       "2017-05-01    1.861206e+06\n",
       "2017-06-01    1.822798e+06\n",
       "2017-07-01    1.659478e+06\n",
       "2017-08-01    2.220896e+06\n",
       "2017-09-01    1.971580e+06\n",
       "2017-10-01    2.351610e+06\n",
       "2017-11-01    3.137500e+06\n",
       "2017-12-01    2.778357e+06\n",
       "Freq: MS, Name: VALUE, dtype: float64"
      ]
     },
     "execution_count": 72,
     "metadata": {},
     "output_type": "execute_result"
    }
   ],
   "source": [
    "#Resample the data on Monthly basis\n",
    "y=up['VALUE'].resample('MS').mean()\n",
    "y"
   ]
  },
  {
   "cell_type": "code",
   "execution_count": 73,
   "metadata": {},
   "outputs": [],
   "source": [
    "y=y.fillna(y.mean())\n",
    "#y"
   ]
  },
  {
   "cell_type": "code",
   "execution_count": 74,
   "metadata": {},
   "outputs": [
    {
     "data": {
      "image/png": "[encoded data removed]",
      "text/plain": [
       "<Figure size 720x432 with 1 Axes>"
      ]
     },
     "metadata": {
      "needs_background": "light"
     },
     "output_type": "display_data"
    }
   ],
   "source": [
    "#Graph the plot \n",
    "y.plot(figsize=(10,6))\n",
    "plt.title(\"Trend Analysis for Uttar Pradesh State\")\n",
    "plt.savefig(\"Trend Analysis for Utter Pradesh.pdf\")\n",
    "plt.show()"
   ]
  },
  {
   "cell_type": "markdown",
   "metadata": {},
   "source": [
    "# STATE=Punjab  "
   ]
  },
  {
   "cell_type": "code",
   "execution_count": 75,
   "metadata": {},
   "outputs": [
    {
     "data": {
      "text/plain": [
       "(41316, 3)"
      ]
     },
     "execution_count": 75,
     "metadata": {},
     "output_type": "execute_result"
    }
   ],
   "source": [
    "# create new dataframe on the basis of punjab state\n",
    "punjab= state.loc[state['STATE'] == 'Punjab']\n",
    "punjab.shape"
   ]
  },
  {
   "cell_type": "code",
   "execution_count": 76,
   "metadata": {},
   "outputs": [],
   "source": [
    "# grouping the data on the basis of Month_year and VALUE\n",
    "punjab=punjab.groupby('Month_year')['VALUE'].sum().reset_index()"
   ]
  },
  {
   "cell_type": "code",
   "execution_count": 77,
   "metadata": {},
   "outputs": [],
   "source": [
    "# Set Month_year as a Index\n",
    "punjab=punjab.set_index(\"Month_year\")"
   ]
  },
  {
   "cell_type": "code",
   "execution_count": 78,
   "metadata": {},
   "outputs": [],
   "source": [
    "#Resample the data on Monthly basis\n",
    "y=punjab['VALUE'].resample('MS').mean()\n",
    "#y"
   ]
  },
  {
   "cell_type": "code",
   "execution_count": 79,
   "metadata": {},
   "outputs": [],
   "source": [
    "# fill the missing values with mean values of the data\n",
    "y=y.fillna(y.mean())\n",
    "#y"
   ]
  },
  {
   "cell_type": "code",
   "execution_count": 80,
   "metadata": {},
   "outputs": [
    {
     "data": {
      "image/png": "[encoded data removed]",
      "text/plain": [
       "<Figure size 720x432 with 1 Axes>"
      ]
     },
     "metadata": {
      "needs_background": "light"
     },
     "output_type": "display_data"
    }
   ],
   "source": [
    "#Graph the plot \n",
    "y.plot(figsize=(10,6))\n",
    "plt.title(\"Trend Analysis for Punjab State\")\n",
    "plt.savefig(\"Trend Analysis for Punjab State.pdf\")\n",
    "plt.show()"
   ]
  },
  {
   "cell_type": "markdown",
   "metadata": {},
   "source": [
    "# State=Himachal Pradesh "
   ]
  },
  {
   "cell_type": "code",
   "execution_count": 81,
   "metadata": {},
   "outputs": [
    {
     "data": {
      "text/plain": [
       "(8092, 3)"
      ]
     },
     "execution_count": 81,
     "metadata": {},
     "output_type": "execute_result"
    }
   ],
   "source": [
    "# create new dataframe on the basis of Himachal Pradesh \n",
    "hp= state.loc[state['STATE'] == 'Himachal Pradesh']\n",
    "hp.shape"
   ]
  },
  {
   "cell_type": "code",
   "execution_count": 82,
   "metadata": {},
   "outputs": [
    {
     "data": {
      "text/html": [
       "<div>\n",
       "<style scoped>\n",
       "    .dataframe tbody tr th:only-of-type {\n",
       "        vertical-align: middle;\n",
       "    }\n",
       "\n",
       "    .dataframe tbody tr th {\n",
       "        vertical-align: top;\n",
       "    }\n",
       "\n",
       "    .dataframe thead th {\n",
       "        text-align: right;\n",
       "    }\n",
       "</style>\n",
       "<table border=\"1\" class=\"dataframe\">\n",
       "  <thead>\n",
       "    <tr style=\"text-align: right;\">\n",
       "      <th></th>\n",
       "      <th>Month_year</th>\n",
       "      <th>VALUE</th>\n",
       "    </tr>\n",
       "  </thead>\n",
       "  <tbody>\n",
       "    <tr>\n",
       "      <th>0</th>\n",
       "      <td>2014-01-01</td>\n",
       "      <td>39021.885</td>\n",
       "    </tr>\n",
       "    <tr>\n",
       "      <th>1</th>\n",
       "      <td>2014-02-01</td>\n",
       "      <td>23974.110</td>\n",
       "    </tr>\n",
       "    <tr>\n",
       "      <th>2</th>\n",
       "      <td>2014-03-01</td>\n",
       "      <td>5040.630</td>\n",
       "    </tr>\n",
       "    <tr>\n",
       "      <th>3</th>\n",
       "      <td>2014-04-01</td>\n",
       "      <td>14058.900</td>\n",
       "    </tr>\n",
       "    <tr>\n",
       "      <th>4</th>\n",
       "      <td>2014-05-01</td>\n",
       "      <td>17053.200</td>\n",
       "    </tr>\n",
       "    <tr>\n",
       "      <th>5</th>\n",
       "      <td>2014-06-01</td>\n",
       "      <td>25221.510</td>\n",
       "    </tr>\n",
       "    <tr>\n",
       "      <th>6</th>\n",
       "      <td>2014-07-01</td>\n",
       "      <td>35267.670</td>\n",
       "    </tr>\n",
       "    <tr>\n",
       "      <th>7</th>\n",
       "      <td>2014-08-01</td>\n",
       "      <td>7495.875</td>\n",
       "    </tr>\n",
       "    <tr>\n",
       "      <th>8</th>\n",
       "      <td>2014-09-01</td>\n",
       "      <td>165.375</td>\n",
       "    </tr>\n",
       "    <tr>\n",
       "      <th>9</th>\n",
       "      <td>2014-10-01</td>\n",
       "      <td>13826.835</td>\n",
       "    </tr>\n",
       "    <tr>\n",
       "      <th>10</th>\n",
       "      <td>2014-11-01</td>\n",
       "      <td>42819.300</td>\n",
       "    </tr>\n",
       "    <tr>\n",
       "      <th>11</th>\n",
       "      <td>2014-12-01</td>\n",
       "      <td>41332.410</td>\n",
       "    </tr>\n",
       "    <tr>\n",
       "      <th>12</th>\n",
       "      <td>2015-01-01</td>\n",
       "      <td>27659.475</td>\n",
       "    </tr>\n",
       "    <tr>\n",
       "      <th>13</th>\n",
       "      <td>2015-02-01</td>\n",
       "      <td>19223.865</td>\n",
       "    </tr>\n",
       "    <tr>\n",
       "      <th>14</th>\n",
       "      <td>2015-03-01</td>\n",
       "      <td>31303.800</td>\n",
       "    </tr>\n",
       "    <tr>\n",
       "      <th>15</th>\n",
       "      <td>2015-04-01</td>\n",
       "      <td>16622.820</td>\n",
       "    </tr>\n",
       "    <tr>\n",
       "      <th>16</th>\n",
       "      <td>2015-05-01</td>\n",
       "      <td>18659.700</td>\n",
       "    </tr>\n",
       "    <tr>\n",
       "      <th>17</th>\n",
       "      <td>2015-06-01</td>\n",
       "      <td>28814.130</td>\n",
       "    </tr>\n",
       "    <tr>\n",
       "      <th>18</th>\n",
       "      <td>2015-07-01</td>\n",
       "      <td>36469.575</td>\n",
       "    </tr>\n",
       "    <tr>\n",
       "      <th>19</th>\n",
       "      <td>2015-08-01</td>\n",
       "      <td>21183.390</td>\n",
       "    </tr>\n",
       "    <tr>\n",
       "      <th>20</th>\n",
       "      <td>2015-09-01</td>\n",
       "      <td>21084.705</td>\n",
       "    </tr>\n",
       "    <tr>\n",
       "      <th>21</th>\n",
       "      <td>2015-10-01</td>\n",
       "      <td>32621.805</td>\n",
       "    </tr>\n",
       "    <tr>\n",
       "      <th>22</th>\n",
       "      <td>2015-11-01</td>\n",
       "      <td>19710.405</td>\n",
       "    </tr>\n",
       "    <tr>\n",
       "      <th>23</th>\n",
       "      <td>2015-12-01</td>\n",
       "      <td>43592.580</td>\n",
       "    </tr>\n",
       "    <tr>\n",
       "      <th>24</th>\n",
       "      <td>2016-01-01</td>\n",
       "      <td>19237.230</td>\n",
       "    </tr>\n",
       "    <tr>\n",
       "      <th>25</th>\n",
       "      <td>2016-02-01</td>\n",
       "      <td>48452.175</td>\n",
       "    </tr>\n",
       "    <tr>\n",
       "      <th>26</th>\n",
       "      <td>2016-03-01</td>\n",
       "      <td>33551.820</td>\n",
       "    </tr>\n",
       "    <tr>\n",
       "      <th>27</th>\n",
       "      <td>2016-04-01</td>\n",
       "      <td>1407.780</td>\n",
       "    </tr>\n",
       "    <tr>\n",
       "      <th>28</th>\n",
       "      <td>2016-05-01</td>\n",
       "      <td>22886.280</td>\n",
       "    </tr>\n",
       "    <tr>\n",
       "      <th>29</th>\n",
       "      <td>2016-06-01</td>\n",
       "      <td>28411.290</td>\n",
       "    </tr>\n",
       "    <tr>\n",
       "      <th>30</th>\n",
       "      <td>2016-07-01</td>\n",
       "      <td>32565.915</td>\n",
       "    </tr>\n",
       "    <tr>\n",
       "      <th>31</th>\n",
       "      <td>2016-08-01</td>\n",
       "      <td>11781.450</td>\n",
       "    </tr>\n",
       "    <tr>\n",
       "      <th>32</th>\n",
       "      <td>2016-09-01</td>\n",
       "      <td>28102.950</td>\n",
       "    </tr>\n",
       "    <tr>\n",
       "      <th>33</th>\n",
       "      <td>2016-10-01</td>\n",
       "      <td>24027.300</td>\n",
       "    </tr>\n",
       "    <tr>\n",
       "      <th>34</th>\n",
       "      <td>2016-11-01</td>\n",
       "      <td>27566.190</td>\n",
       "    </tr>\n",
       "    <tr>\n",
       "      <th>35</th>\n",
       "      <td>2016-12-01</td>\n",
       "      <td>13604.220</td>\n",
       "    </tr>\n",
       "    <tr>\n",
       "      <th>36</th>\n",
       "      <td>2017-01-01</td>\n",
       "      <td>31884.975</td>\n",
       "    </tr>\n",
       "    <tr>\n",
       "      <th>37</th>\n",
       "      <td>2017-04-01</td>\n",
       "      <td>11589.075</td>\n",
       "    </tr>\n",
       "    <tr>\n",
       "      <th>38</th>\n",
       "      <td>2017-05-01</td>\n",
       "      <td>23584.095</td>\n",
       "    </tr>\n",
       "    <tr>\n",
       "      <th>39</th>\n",
       "      <td>2017-06-01</td>\n",
       "      <td>17153.100</td>\n",
       "    </tr>\n",
       "    <tr>\n",
       "      <th>40</th>\n",
       "      <td>2017-07-01</td>\n",
       "      <td>35875.440</td>\n",
       "    </tr>\n",
       "    <tr>\n",
       "      <th>41</th>\n",
       "      <td>2017-08-01</td>\n",
       "      <td>9008.415</td>\n",
       "    </tr>\n",
       "    <tr>\n",
       "      <th>42</th>\n",
       "      <td>2017-09-01</td>\n",
       "      <td>13933.755</td>\n",
       "    </tr>\n",
       "    <tr>\n",
       "      <th>43</th>\n",
       "      <td>2017-10-01</td>\n",
       "      <td>8557.245</td>\n",
       "    </tr>\n",
       "    <tr>\n",
       "      <th>44</th>\n",
       "      <td>2017-11-01</td>\n",
       "      <td>40999.230</td>\n",
       "    </tr>\n",
       "    <tr>\n",
       "      <th>45</th>\n",
       "      <td>2017-12-01</td>\n",
       "      <td>47687.535</td>\n",
       "    </tr>\n",
       "  </tbody>\n",
       "</table>\n",
       "</div>"
      ],
      "text/plain": [
       "   Month_year      VALUE\n",
       "0  2014-01-01  39021.885\n",
       "1  2014-02-01  23974.110\n",
       "2  2014-03-01   5040.630\n",
       "3  2014-04-01  14058.900\n",
       "4  2014-05-01  17053.200\n",
       "5  2014-06-01  25221.510\n",
       "6  2014-07-01  35267.670\n",
       "7  2014-08-01   7495.875\n",
       "8  2014-09-01    165.375\n",
       "9  2014-10-01  13826.835\n",
       "10 2014-11-01  42819.300\n",
       "11 2014-12-01  41332.410\n",
       "12 2015-01-01  27659.475\n",
       "13 2015-02-01  19223.865\n",
       "14 2015-03-01  31303.800\n",
       "15 2015-04-01  16622.820\n",
       "16 2015-05-01  18659.700\n",
       "17 2015-06-01  28814.130\n",
       "18 2015-07-01  36469.575\n",
       "19 2015-08-01  21183.390\n",
       "20 2015-09-01  21084.705\n",
       "21 2015-10-01  32621.805\n",
       "22 2015-11-01  19710.405\n",
       "23 2015-12-01  43592.580\n",
       "24 2016-01-01  19237.230\n",
       "25 2016-02-01  48452.175\n",
       "26 2016-03-01  33551.820\n",
       "27 2016-04-01   1407.780\n",
       "28 2016-05-01  22886.280\n",
       "29 2016-06-01  28411.290\n",
       "30 2016-07-01  32565.915\n",
       "31 2016-08-01  11781.450\n",
       "32 2016-09-01  28102.950\n",
       "33 2016-10-01  24027.300\n",
       "34 2016-11-01  27566.190\n",
       "35 2016-12-01  13604.220\n",
       "36 2017-01-01  31884.975\n",
       "37 2017-04-01  11589.075\n",
       "38 2017-05-01  23584.095\n",
       "39 2017-06-01  17153.100\n",
       "40 2017-07-01  35875.440\n",
       "41 2017-08-01   9008.415\n",
       "42 2017-09-01  13933.755\n",
       "43 2017-10-01   8557.245\n",
       "44 2017-11-01  40999.230\n",
       "45 2017-12-01  47687.535"
      ]
     },
     "execution_count": 82,
     "metadata": {},
     "output_type": "execute_result"
    }
   ],
   "source": [
    "# grouping the data on the basis of month_years and Values\n",
    "hp=hp.groupby('Month_year')['VALUE'].sum().reset_index()\n",
    "hp"
   ]
  },
  {
   "cell_type": "code",
   "execution_count": 83,
   "metadata": {},
   "outputs": [],
   "source": [
    "# Set Month_year as a Index\n",
    "hp=hp.set_index(\"Month_year\")"
   ]
  },
  {
   "cell_type": "code",
   "execution_count": 84,
   "metadata": {},
   "outputs": [],
   "source": [
    "#Resample the data on Monthly basis\n",
    "y=hp['VALUE'].resample('MS').mean()\n"
   ]
  },
  {
   "cell_type": "code",
   "execution_count": 85,
   "metadata": {},
   "outputs": [
    {
     "data": {
      "text/plain": [
       "Month_year\n",
       "2014-01-01    39021.885000\n",
       "2014-02-01    23974.110000\n",
       "2014-03-01     5040.630000\n",
       "2014-04-01    14058.900000\n",
       "2014-05-01    17053.200000\n",
       "2014-06-01    25221.510000\n",
       "2014-07-01    35267.670000\n",
       "2014-08-01     7495.875000\n",
       "2014-09-01      165.375000\n",
       "2014-10-01    13826.835000\n",
       "2014-11-01    42819.300000\n",
       "2014-12-01    41332.410000\n",
       "2015-01-01    27659.475000\n",
       "2015-02-01    19223.865000\n",
       "2015-03-01    31303.800000\n",
       "2015-04-01    16622.820000\n",
       "2015-05-01    18659.700000\n",
       "2015-06-01    28814.130000\n",
       "2015-07-01    36469.575000\n",
       "2015-08-01    21183.390000\n",
       "2015-09-01    21084.705000\n",
       "2015-10-01    32621.805000\n",
       "2015-11-01    19710.405000\n",
       "2015-12-01    43592.580000\n",
       "2016-01-01    19237.230000\n",
       "2016-02-01    48452.175000\n",
       "2016-03-01    33551.820000\n",
       "2016-04-01     1407.780000\n",
       "2016-05-01    22886.280000\n",
       "2016-06-01    28411.290000\n",
       "2016-07-01    32565.915000\n",
       "2016-08-01    11781.450000\n",
       "2016-09-01    28102.950000\n",
       "2016-10-01    24027.300000\n",
       "2016-11-01    27566.190000\n",
       "2016-12-01    13604.220000\n",
       "2017-01-01    31884.975000\n",
       "2017-02-01    24219.378587\n",
       "2017-03-01    24219.378587\n",
       "2017-04-01    11589.075000\n",
       "2017-05-01    23584.095000\n",
       "2017-06-01    17153.100000\n",
       "2017-07-01    35875.440000\n",
       "2017-08-01     9008.415000\n",
       "2017-09-01    13933.755000\n",
       "2017-10-01     8557.245000\n",
       "2017-11-01    40999.230000\n",
       "2017-12-01    47687.535000\n",
       "Freq: MS, Name: VALUE, dtype: float64"
      ]
     },
     "execution_count": 85,
     "metadata": {},
     "output_type": "execute_result"
    }
   ],
   "source": [
    "# fill the missing values with mean values\n",
    "y=y.fillna(y.mean())\n",
    "y"
   ]
  },
  {
   "cell_type": "code",
   "execution_count": 86,
   "metadata": {},
   "outputs": [
    {
     "data": {
      "image/png": "[encoded data removed]",
      "text/plain": [
       "<Figure size 720x432 with 1 Axes>"
      ]
     },
     "metadata": {
      "needs_background": "light"
     },
     "output_type": "display_data"
    }
   ],
   "source": [
    "#Graph the plot \n",
    "y.plot(figsize=(10,6))\n",
    "plt.title(\"Trend Analysis for Himachal Pradesh\")\n",
    "plt.savefig(\"Trend Analysis for Himachal Pradesh.pdf\")\n",
    "plt.show()"
   ]
  },
  {
   "cell_type": "markdown",
   "metadata": {},
   "source": [
    "# State=Uttarakhand   "
   ]
  },
  {
   "cell_type": "code",
   "execution_count": 87,
   "metadata": {},
   "outputs": [
    {
     "data": {
      "text/html": [
       "<div>\n",
       "<style scoped>\n",
       "    .dataframe tbody tr th:only-of-type {\n",
       "        vertical-align: middle;\n",
       "    }\n",
       "\n",
       "    .dataframe tbody tr th {\n",
       "        vertical-align: top;\n",
       "    }\n",
       "\n",
       "    .dataframe thead th {\n",
       "        text-align: right;\n",
       "    }\n",
       "</style>\n",
       "<table border=\"1\" class=\"dataframe\">\n",
       "  <thead>\n",
       "    <tr style=\"text-align: right;\">\n",
       "      <th></th>\n",
       "      <th>Month_year</th>\n",
       "      <th>STATE</th>\n",
       "      <th>VALUE</th>\n",
       "    </tr>\n",
       "  </thead>\n",
       "  <tbody>\n",
       "    <tr>\n",
       "      <th>7725</th>\n",
       "      <td>2014-04-01</td>\n",
       "      <td>Uttarakhand</td>\n",
       "      <td>14.445</td>\n",
       "    </tr>\n",
       "    <tr>\n",
       "      <th>7726</th>\n",
       "      <td>2014-04-01</td>\n",
       "      <td>Uttarakhand</td>\n",
       "      <td>156.600</td>\n",
       "    </tr>\n",
       "    <tr>\n",
       "      <th>7727</th>\n",
       "      <td>2014-04-01</td>\n",
       "      <td>Uttarakhand</td>\n",
       "      <td>24.300</td>\n",
       "    </tr>\n",
       "    <tr>\n",
       "      <th>7728</th>\n",
       "      <td>2014-04-01</td>\n",
       "      <td>Uttarakhand</td>\n",
       "      <td>189.000</td>\n",
       "    </tr>\n",
       "    <tr>\n",
       "      <th>7729</th>\n",
       "      <td>2014-04-01</td>\n",
       "      <td>Uttarakhand</td>\n",
       "      <td>224.100</td>\n",
       "    </tr>\n",
       "  </tbody>\n",
       "</table>\n",
       "</div>"
      ],
      "text/plain": [
       "     Month_year        STATE    VALUE\n",
       "7725 2014-04-01  Uttarakhand   14.445\n",
       "7726 2014-04-01  Uttarakhand  156.600\n",
       "7727 2014-04-01  Uttarakhand   24.300\n",
       "7728 2014-04-01  Uttarakhand  189.000\n",
       "7729 2014-04-01  Uttarakhand  224.100"
      ]
     },
     "execution_count": 87,
     "metadata": {},
     "output_type": "execute_result"
    }
   ],
   "source": [
    "# create new data on the basis of Uttarakhand state\n",
    "uk= state.loc[state['STATE'] == 'Uttarakhand']\n",
    "uk.head()"
   ]
  },
  {
   "cell_type": "code",
   "execution_count": 88,
   "metadata": {},
   "outputs": [
    {
     "data": {
      "text/html": [
       "<div>\n",
       "<style scoped>\n",
       "    .dataframe tbody tr th:only-of-type {\n",
       "        vertical-align: middle;\n",
       "    }\n",
       "\n",
       "    .dataframe tbody tr th {\n",
       "        vertical-align: top;\n",
       "    }\n",
       "\n",
       "    .dataframe thead th {\n",
       "        text-align: right;\n",
       "    }\n",
       "</style>\n",
       "<table border=\"1\" class=\"dataframe\">\n",
       "  <thead>\n",
       "    <tr style=\"text-align: right;\">\n",
       "      <th></th>\n",
       "      <th>Month_year</th>\n",
       "      <th>VALUE</th>\n",
       "    </tr>\n",
       "  </thead>\n",
       "  <tbody>\n",
       "    <tr>\n",
       "      <th>0</th>\n",
       "      <td>2014-01-01</td>\n",
       "      <td>64954.0350</td>\n",
       "    </tr>\n",
       "    <tr>\n",
       "      <th>1</th>\n",
       "      <td>2014-02-01</td>\n",
       "      <td>94264.4250</td>\n",
       "    </tr>\n",
       "    <tr>\n",
       "      <th>2</th>\n",
       "      <td>2014-03-01</td>\n",
       "      <td>67716.0000</td>\n",
       "    </tr>\n",
       "    <tr>\n",
       "      <th>3</th>\n",
       "      <td>2014-04-01</td>\n",
       "      <td>55295.7300</td>\n",
       "    </tr>\n",
       "    <tr>\n",
       "      <th>4</th>\n",
       "      <td>2014-05-01</td>\n",
       "      <td>68594.8500</td>\n",
       "    </tr>\n",
       "    <tr>\n",
       "      <th>5</th>\n",
       "      <td>2014-06-01</td>\n",
       "      <td>102949.3800</td>\n",
       "    </tr>\n",
       "    <tr>\n",
       "      <th>6</th>\n",
       "      <td>2014-07-01</td>\n",
       "      <td>100295.5500</td>\n",
       "    </tr>\n",
       "    <tr>\n",
       "      <th>7</th>\n",
       "      <td>2014-08-01</td>\n",
       "      <td>68361.9750</td>\n",
       "    </tr>\n",
       "    <tr>\n",
       "      <th>8</th>\n",
       "      <td>2014-09-01</td>\n",
       "      <td>63160.2900</td>\n",
       "    </tr>\n",
       "    <tr>\n",
       "      <th>9</th>\n",
       "      <td>2014-10-01</td>\n",
       "      <td>76685.4000</td>\n",
       "    </tr>\n",
       "    <tr>\n",
       "      <th>10</th>\n",
       "      <td>2014-11-01</td>\n",
       "      <td>98586.0450</td>\n",
       "    </tr>\n",
       "    <tr>\n",
       "      <th>11</th>\n",
       "      <td>2014-12-01</td>\n",
       "      <td>72161.0100</td>\n",
       "    </tr>\n",
       "    <tr>\n",
       "      <th>12</th>\n",
       "      <td>2015-01-01</td>\n",
       "      <td>96423.6150</td>\n",
       "    </tr>\n",
       "    <tr>\n",
       "      <th>13</th>\n",
       "      <td>2015-02-01</td>\n",
       "      <td>114954.6600</td>\n",
       "    </tr>\n",
       "    <tr>\n",
       "      <th>14</th>\n",
       "      <td>2015-03-01</td>\n",
       "      <td>105656.9805</td>\n",
       "    </tr>\n",
       "    <tr>\n",
       "      <th>15</th>\n",
       "      <td>2015-04-01</td>\n",
       "      <td>44436.4650</td>\n",
       "    </tr>\n",
       "    <tr>\n",
       "      <th>16</th>\n",
       "      <td>2015-05-01</td>\n",
       "      <td>103579.1550</td>\n",
       "    </tr>\n",
       "    <tr>\n",
       "      <th>17</th>\n",
       "      <td>2015-06-01</td>\n",
       "      <td>117258.8400</td>\n",
       "    </tr>\n",
       "    <tr>\n",
       "      <th>18</th>\n",
       "      <td>2015-07-01</td>\n",
       "      <td>108990.0900</td>\n",
       "    </tr>\n",
       "    <tr>\n",
       "      <th>19</th>\n",
       "      <td>2015-08-01</td>\n",
       "      <td>72897.5700</td>\n",
       "    </tr>\n",
       "    <tr>\n",
       "      <th>20</th>\n",
       "      <td>2015-09-01</td>\n",
       "      <td>59193.1800</td>\n",
       "    </tr>\n",
       "    <tr>\n",
       "      <th>21</th>\n",
       "      <td>2015-10-01</td>\n",
       "      <td>94766.5170</td>\n",
       "    </tr>\n",
       "    <tr>\n",
       "      <th>22</th>\n",
       "      <td>2015-11-01</td>\n",
       "      <td>113434.2900</td>\n",
       "    </tr>\n",
       "    <tr>\n",
       "      <th>23</th>\n",
       "      <td>2015-12-01</td>\n",
       "      <td>121737.6000</td>\n",
       "    </tr>\n",
       "    <tr>\n",
       "      <th>24</th>\n",
       "      <td>2016-01-01</td>\n",
       "      <td>75398.1750</td>\n",
       "    </tr>\n",
       "    <tr>\n",
       "      <th>25</th>\n",
       "      <td>2016-02-01</td>\n",
       "      <td>54955.8000</td>\n",
       "    </tr>\n",
       "    <tr>\n",
       "      <th>26</th>\n",
       "      <td>2016-03-01</td>\n",
       "      <td>65247.6600</td>\n",
       "    </tr>\n",
       "    <tr>\n",
       "      <th>27</th>\n",
       "      <td>2016-04-01</td>\n",
       "      <td>104904.3150</td>\n",
       "    </tr>\n",
       "    <tr>\n",
       "      <th>28</th>\n",
       "      <td>2016-05-01</td>\n",
       "      <td>133894.0800</td>\n",
       "    </tr>\n",
       "    <tr>\n",
       "      <th>29</th>\n",
       "      <td>2016-06-01</td>\n",
       "      <td>157839.2325</td>\n",
       "    </tr>\n",
       "    <tr>\n",
       "      <th>30</th>\n",
       "      <td>2016-07-01</td>\n",
       "      <td>115405.1550</td>\n",
       "    </tr>\n",
       "    <tr>\n",
       "      <th>31</th>\n",
       "      <td>2016-08-01</td>\n",
       "      <td>93273.6600</td>\n",
       "    </tr>\n",
       "    <tr>\n",
       "      <th>32</th>\n",
       "      <td>2016-09-01</td>\n",
       "      <td>51050.9250</td>\n",
       "    </tr>\n",
       "    <tr>\n",
       "      <th>33</th>\n",
       "      <td>2016-10-01</td>\n",
       "      <td>68383.0350</td>\n",
       "    </tr>\n",
       "    <tr>\n",
       "      <th>34</th>\n",
       "      <td>2016-11-01</td>\n",
       "      <td>109880.0100</td>\n",
       "    </tr>\n",
       "    <tr>\n",
       "      <th>35</th>\n",
       "      <td>2016-12-01</td>\n",
       "      <td>120071.4300</td>\n",
       "    </tr>\n",
       "    <tr>\n",
       "      <th>36</th>\n",
       "      <td>2017-01-01</td>\n",
       "      <td>89631.9000</td>\n",
       "    </tr>\n",
       "    <tr>\n",
       "      <th>37</th>\n",
       "      <td>2017-04-01</td>\n",
       "      <td>65165.8500</td>\n",
       "    </tr>\n",
       "    <tr>\n",
       "      <th>38</th>\n",
       "      <td>2017-05-01</td>\n",
       "      <td>109495.1250</td>\n",
       "    </tr>\n",
       "    <tr>\n",
       "      <th>39</th>\n",
       "      <td>2017-06-01</td>\n",
       "      <td>144063.2250</td>\n",
       "    </tr>\n",
       "    <tr>\n",
       "      <th>40</th>\n",
       "      <td>2017-07-01</td>\n",
       "      <td>93532.7250</td>\n",
       "    </tr>\n",
       "    <tr>\n",
       "      <th>41</th>\n",
       "      <td>2017-08-01</td>\n",
       "      <td>83460.2400</td>\n",
       "    </tr>\n",
       "    <tr>\n",
       "      <th>42</th>\n",
       "      <td>2017-09-01</td>\n",
       "      <td>57310.2000</td>\n",
       "    </tr>\n",
       "    <tr>\n",
       "      <th>43</th>\n",
       "      <td>2017-10-01</td>\n",
       "      <td>61509.7800</td>\n",
       "    </tr>\n",
       "    <tr>\n",
       "      <th>44</th>\n",
       "      <td>2017-11-01</td>\n",
       "      <td>100339.5600</td>\n",
       "    </tr>\n",
       "    <tr>\n",
       "      <th>45</th>\n",
       "      <td>2017-12-01</td>\n",
       "      <td>110924.9100</td>\n",
       "    </tr>\n",
       "  </tbody>\n",
       "</table>\n",
       "</div>"
      ],
      "text/plain": [
       "   Month_year        VALUE\n",
       "0  2014-01-01   64954.0350\n",
       "1  2014-02-01   94264.4250\n",
       "2  2014-03-01   67716.0000\n",
       "3  2014-04-01   55295.7300\n",
       "4  2014-05-01   68594.8500\n",
       "5  2014-06-01  102949.3800\n",
       "6  2014-07-01  100295.5500\n",
       "7  2014-08-01   68361.9750\n",
       "8  2014-09-01   63160.2900\n",
       "9  2014-10-01   76685.4000\n",
       "10 2014-11-01   98586.0450\n",
       "11 2014-12-01   72161.0100\n",
       "12 2015-01-01   96423.6150\n",
       "13 2015-02-01  114954.6600\n",
       "14 2015-03-01  105656.9805\n",
       "15 2015-04-01   44436.4650\n",
       "16 2015-05-01  103579.1550\n",
       "17 2015-06-01  117258.8400\n",
       "18 2015-07-01  108990.0900\n",
       "19 2015-08-01   72897.5700\n",
       "20 2015-09-01   59193.1800\n",
       "21 2015-10-01   94766.5170\n",
       "22 2015-11-01  113434.2900\n",
       "23 2015-12-01  121737.6000\n",
       "24 2016-01-01   75398.1750\n",
       "25 2016-02-01   54955.8000\n",
       "26 2016-03-01   65247.6600\n",
       "27 2016-04-01  104904.3150\n",
       "28 2016-05-01  133894.0800\n",
       "29 2016-06-01  157839.2325\n",
       "30 2016-07-01  115405.1550\n",
       "31 2016-08-01   93273.6600\n",
       "32 2016-09-01   51050.9250\n",
       "33 2016-10-01   68383.0350\n",
       "34 2016-11-01  109880.0100\n",
       "35 2016-12-01  120071.4300\n",
       "36 2017-01-01   89631.9000\n",
       "37 2017-04-01   65165.8500\n",
       "38 2017-05-01  109495.1250\n",
       "39 2017-06-01  144063.2250\n",
       "40 2017-07-01   93532.7250\n",
       "41 2017-08-01   83460.2400\n",
       "42 2017-09-01   57310.2000\n",
       "43 2017-10-01   61509.7800\n",
       "44 2017-11-01  100339.5600\n",
       "45 2017-12-01  110924.9100"
      ]
     },
     "execution_count": 88,
     "metadata": {},
     "output_type": "execute_result"
    }
   ],
   "source": [
    "#grouping the data \n",
    "uk=uk.groupby('Month_year')['VALUE'].sum().reset_index()\n",
    "uk"
   ]
  },
  {
   "cell_type": "code",
   "execution_count": 89,
   "metadata": {},
   "outputs": [],
   "source": [
    "# Set Month_year as a Index\n",
    "uk=uk.set_index(\"Month_year\")\n",
    "#uk"
   ]
  },
  {
   "cell_type": "code",
   "execution_count": 90,
   "metadata": {},
   "outputs": [
    {
     "data": {
      "text/plain": [
       "Month_year\n",
       "2014-01-01     64954.0350\n",
       "2014-02-01     94264.4250\n",
       "2014-03-01     67716.0000\n",
       "2014-04-01     55295.7300\n",
       "2014-05-01     68594.8500\n",
       "2014-06-01    102949.3800\n",
       "2014-07-01    100295.5500\n",
       "2014-08-01     68361.9750\n",
       "2014-09-01     63160.2900\n",
       "2014-10-01     76685.4000\n",
       "2014-11-01     98586.0450\n",
       "2014-12-01     72161.0100\n",
       "2015-01-01     96423.6150\n",
       "2015-02-01    114954.6600\n",
       "2015-03-01    105656.9805\n",
       "2015-04-01     44436.4650\n",
       "2015-05-01    103579.1550\n",
       "2015-06-01    117258.8400\n",
       "2015-07-01    108990.0900\n",
       "2015-08-01     72897.5700\n",
       "2015-09-01     59193.1800\n",
       "2015-10-01     94766.5170\n",
       "2015-11-01    113434.2900\n",
       "2015-12-01    121737.6000\n",
       "2016-01-01     75398.1750\n",
       "2016-02-01     54955.8000\n",
       "2016-03-01     65247.6600\n",
       "2016-04-01    104904.3150\n",
       "2016-05-01    133894.0800\n",
       "2016-06-01    157839.2325\n",
       "2016-07-01    115405.1550\n",
       "2016-08-01     93273.6600\n",
       "2016-09-01     51050.9250\n",
       "2016-10-01     68383.0350\n",
       "2016-11-01    109880.0100\n",
       "2016-12-01    120071.4300\n",
       "2017-01-01     89631.9000\n",
       "2017-02-01            NaN\n",
       "2017-03-01            NaN\n",
       "2017-04-01     65165.8500\n",
       "2017-05-01    109495.1250\n",
       "2017-06-01    144063.2250\n",
       "2017-07-01     93532.7250\n",
       "2017-08-01     83460.2400\n",
       "2017-09-01     57310.2000\n",
       "2017-10-01     61509.7800\n",
       "2017-11-01    100339.5600\n",
       "2017-12-01    110924.9100\n",
       "Freq: MS, Name: VALUE, dtype: float64"
      ]
     },
     "execution_count": 90,
     "metadata": {},
     "output_type": "execute_result"
    }
   ],
   "source": [
    "#Resample the data on Monthly basis\n",
    "y=uk['VALUE'].resample('MS').mean()\n",
    "y"
   ]
  },
  {
   "cell_type": "code",
   "execution_count": 91,
   "metadata": {},
   "outputs": [],
   "source": [
    "# fill the missing values with mean values\n",
    "y=y.fillna(y.mean())\n",
    "#y"
   ]
  },
  {
   "cell_type": "code",
   "execution_count": 92,
   "metadata": {
    "scrolled": true
   },
   "outputs": [
    {
     "data": {
      "image/png": "[encoded data removed]",
      "text/plain": [
       "<Figure size 720x432 with 1 Axes>"
      ]
     },
     "metadata": {
      "needs_background": "light"
     },
     "output_type": "display_data"
    }
   ],
   "source": [
    "#Graph the plot \n",
    "y.plot(figsize=(10,6))\n",
    "plt.title(\"Trend Analysis for Uttarakhand\")\n",
    "plt.savefig(\"Trend Analysis for Uttarakhand.pdf\")\n",
    "plt.show()"
   ]
  },
  {
   "cell_type": "code",
   "execution_count": 93,
   "metadata": {},
   "outputs": [],
   "source": [
    "# saving the model to the local file system\n",
    "import pickle\n",
    "filename = 'pesticide sales Forecast.pickle'\n",
    "pickle.dump(model, open(filename, 'wb'))"
   ]
  },
  {
   "cell_type": "code",
   "execution_count": 94,
   "metadata": {},
   "outputs": [],
   "source": [
    "df=pd.read_pickle('pesticide sales Forecast.pickle')"
   ]
  },
  {
   "cell_type": "code",
   "execution_count": 95,
   "metadata": {},
   "outputs": [
    {
     "ename": "AttributeError",
     "evalue": "'ARIMA' object has no attribute 'get_forecast'",
     "output_type": "error",
     "traceback": [
      "\u001b[1;31m---------------------------------------------------------------------------\u001b[0m",
      "\u001b[1;31mAttributeError\u001b[0m                            Traceback (most recent call last)",
      "\u001b[1;32m<ipython-input-95-ee0e6885855d>\u001b[0m in \u001b[0;36m<module>\u001b[1;34m\u001b[0m\n\u001b[0;32m      1\u001b[0m \u001b[1;31m# Forecasting2018 pesticide sales\u001b[0m\u001b[1;33m\u001b[0m\u001b[1;33m\u001b[0m\u001b[1;33m\u001b[0m\u001b[0m\n\u001b[1;32m----> 2\u001b[1;33m \u001b[0mab\u001b[0m \u001b[1;33m=\u001b[0m \u001b[0mmodel\u001b[0m\u001b[1;33m.\u001b[0m\u001b[0mget_forecast\u001b[0m\u001b[1;33m(\u001b[0m\u001b[0msteps\u001b[0m\u001b[1;33m=\u001b[0m\u001b[1;36m5\u001b[0m\u001b[1;33m)\u001b[0m\u001b[1;33m\u001b[0m\u001b[1;33m\u001b[0m\u001b[0m\n\u001b[0m\u001b[0;32m      3\u001b[0m \u001b[0mplt\u001b[0m\u001b[1;33m.\u001b[0m\u001b[0mfigure\u001b[0m\u001b[1;33m(\u001b[0m\u001b[0mfigsize\u001b[0m\u001b[1;33m=\u001b[0m\u001b[1;33m(\u001b[0m\u001b[1;36m10\u001b[0m\u001b[1;33m,\u001b[0m\u001b[1;36m6\u001b[0m\u001b[1;33m)\u001b[0m\u001b[1;33m)\u001b[0m\u001b[1;33m\u001b[0m\u001b[1;33m\u001b[0m\u001b[0m\n\u001b[0;32m      4\u001b[0m \u001b[0msa\u001b[0m\u001b[1;33m=\u001b[0m \u001b[0my\u001b[0m\u001b[1;33m[\u001b[0m\u001b[1;34m'2014'\u001b[0m\u001b[1;33m:\u001b[0m\u001b[1;33m]\u001b[0m\u001b[1;33m.\u001b[0m\u001b[0mplot\u001b[0m\u001b[1;33m(\u001b[0m\u001b[0mlabel\u001b[0m\u001b[1;33m=\u001b[0m\u001b[1;34m'observed'\u001b[0m\u001b[1;33m)\u001b[0m\u001b[1;33m\u001b[0m\u001b[1;33m\u001b[0m\u001b[0m\n\u001b[0;32m      5\u001b[0m \u001b[0mpred_uc\u001b[0m\u001b[1;33m.\u001b[0m\u001b[0mpredicted_mean\u001b[0m\u001b[1;33m.\u001b[0m\u001b[0mplot\u001b[0m\u001b[1;33m(\u001b[0m\u001b[0max\u001b[0m\u001b[1;33m=\u001b[0m\u001b[0msa\u001b[0m\u001b[1;33m,\u001b[0m \u001b[0mlabel\u001b[0m\u001b[1;33m=\u001b[0m\u001b[1;34m'One-step ahead Forecast'\u001b[0m\u001b[1;33m)\u001b[0m\u001b[1;33m\u001b[0m\u001b[1;33m\u001b[0m\u001b[0m\n",
      "\u001b[1;31mAttributeError\u001b[0m: 'ARIMA' object has no attribute 'get_forecast'"
     ]
    }
   ],
   "source": [
    "# Forecasting2018 pesticide sales \n",
    "ab = model.get_forecast(steps=5)\n",
    "plt.figure(figsize=(10,6))\n",
    "sa= y['2014':].plot(label='observed')\n",
    "pred_uc.predicted_mean.plot(ax=sa, label='One-step ahead Forecast')\n",
    "plt.title(\"Forecasting2018 Pesticide sales\")\n",
    "ax.set_xlabel('Month_Year')\n",
    "ax.set_ylabel('VALUE')\n",
    "plt.legend()\n",
    "plt.savefig(\"Forecasting Pesticide sales.pdf\")\n",
    "plt.show()"
   ]
  },
  {
   "cell_type": "code",
   "execution_count": null,
   "metadata": {},
   "outputs": [],
   "source": [
    "# save model into pickle format\n",
    "#import pickle\n",
    "#with open('pesticide sales Forecast.pickle.sav','wb')as f:\n",
    "#pickle.dump(model,f)"
   ]
  },
  {
   "cell_type": "code",
   "execution_count": null,
   "metadata": {},
   "outputs": [],
   "source": [
    "# saving the model to the local file system\n",
    "import pickle\n",
    "filename = 'pesticide sales Forecast.pickle'\n",
    "pickle.dump(model, open(filename, 'wb'))"
   ]
  },
  {
   "cell_type": "code",
   "execution_count": null,
   "metadata": {},
   "outputs": [],
   "source": []
  }
 ],
 "metadata": {
  "kernelspec": {
   "display_name": "Python 3",
   "language": "python",
   "name": "python3"
  },
  "language_info": {
   "codemirror_mode": {
    "name": "ipython",
    "version": 3
   },
   "file_extension": ".py",
   "mimetype": "text/x-python",
   "name": "python",
   "nbconvert_exporter": "python",
   "pygments_lexer": "ipython3",
   "version": "3.7.6"
  }
 },
 "nbformat": 4,
 "nbformat_minor": 4
}
